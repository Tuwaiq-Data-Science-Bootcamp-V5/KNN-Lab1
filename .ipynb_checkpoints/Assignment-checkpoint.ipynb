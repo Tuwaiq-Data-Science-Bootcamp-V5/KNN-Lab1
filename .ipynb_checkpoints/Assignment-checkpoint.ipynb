{
 "cells": [
  {
   "cell_type": "markdown",
   "id": "d3d001b0-2e2f-4b58-8442-99520bad831f",
   "metadata": {},
   "source": [
    "# Sowing Success: How Machine Learning Helps Farmers Select the Best Crops\n",
    "\n",
    "Measuring essential soil metrics such as nitrogen, phosphorous, potassium levels, and pH value is an important aspect of assessing soil condition. However, it can be an expensive and time-consuming process, which can cause farmers to prioritize which metrics to measure based on their budget constraints.\n",
    "\n",
    "Farmers have various options when it comes to deciding which crop to plant each season. Their primary objective is to maximize the yield of their crops, taking into account different factors. One crucial factor that affects crop growth is the condition of the soil in the field, which can be assessed by measuring basic elements such as nitrogen and potassium levels. Each crop has an ideal soil condition that ensures optimal growth and maximum yield.\n",
    "\n",
    "A farmer reached out to you as a machine learning expert for assistance in selecting the best crop for his field. They've provided you with a dataset called `soil_measures.csv`, which contains:\n",
    "\n",
    "- `\"N\"`: Nitrogen content ratio in the soil\n",
    "- `\"P\"`: Phosphorous content ratio in the soil\n",
    "- `\"K\"`: Potassium content ratio in the soil\n",
    "- `\"pH\"` value of the soil\n",
    "- `\"crop\"`: categorical values that contain various crops (target variable).\n",
    "\n",
    "Each row in this dataset represents various measures of the soil in a particular field. Based on these measurements, the crop specified in the `\"crop\"` column is the optimal choice for that field.  \n",
    "\n",
    "In this project, you will apply machine learning to build a multi-class classification model to predict the type of `\"crop\"`, while using techniques to avoid multicollinearity, which is a concept where two or more features are highly correlated."
   ]
  },
  {
   "cell_type": "markdown",
   "id": "aed30183",
   "metadata": {},
   "source": [
    "# Import Libraries"
   ]
  },
  {
   "cell_type": "code",
   "execution_count": 1,
   "id": "0cad523c",
   "metadata": {},
   "outputs": [],
   "source": [
    "import warnings\n",
    "warnings.filterwarnings(\"ignore\")\n",
    "import pandas as pd\n",
    "import numpy as np\n",
    "from sklearn.linear_model import LogisticRegression\n",
    "import matplotlib.pyplot as plt\n",
    "import seaborn as sns\n",
    "%matplotlib inline\n",
    "from sklearn.model_selection import train_test_split"
   ]
  },
  {
   "cell_type": "markdown",
   "id": "be1af3d5",
   "metadata": {},
   "source": [
    "# Load the Dataset and make EDA\n",
    "\n",
    "- Print the head, tail, describe, info, shape."
   ]
  },
  {
   "cell_type": "code",
   "execution_count": 2,
   "id": "dc8e8172",
   "metadata": {},
   "outputs": [
    {
     "data": {
      "text/html": [
       "<div>\n",
       "<style scoped>\n",
       "    .dataframe tbody tr th:only-of-type {\n",
       "        vertical-align: middle;\n",
       "    }\n",
       "\n",
       "    .dataframe tbody tr th {\n",
       "        vertical-align: top;\n",
       "    }\n",
       "\n",
       "    .dataframe thead th {\n",
       "        text-align: right;\n",
       "    }\n",
       "</style>\n",
       "<table border=\"1\" class=\"dataframe\">\n",
       "  <thead>\n",
       "    <tr style=\"text-align: right;\">\n",
       "      <th></th>\n",
       "      <th>N</th>\n",
       "      <th>P</th>\n",
       "      <th>K</th>\n",
       "      <th>ph</th>\n",
       "      <th>crop</th>\n",
       "    </tr>\n",
       "  </thead>\n",
       "  <tbody>\n",
       "    <tr>\n",
       "      <th>0</th>\n",
       "      <td>90</td>\n",
       "      <td>42</td>\n",
       "      <td>43</td>\n",
       "      <td>6.502985</td>\n",
       "      <td>rice</td>\n",
       "    </tr>\n",
       "    <tr>\n",
       "      <th>1</th>\n",
       "      <td>85</td>\n",
       "      <td>58</td>\n",
       "      <td>41</td>\n",
       "      <td>7.038096</td>\n",
       "      <td>rice</td>\n",
       "    </tr>\n",
       "    <tr>\n",
       "      <th>2</th>\n",
       "      <td>60</td>\n",
       "      <td>55</td>\n",
       "      <td>44</td>\n",
       "      <td>7.840207</td>\n",
       "      <td>rice</td>\n",
       "    </tr>\n",
       "    <tr>\n",
       "      <th>3</th>\n",
       "      <td>74</td>\n",
       "      <td>35</td>\n",
       "      <td>40</td>\n",
       "      <td>6.980401</td>\n",
       "      <td>rice</td>\n",
       "    </tr>\n",
       "    <tr>\n",
       "      <th>4</th>\n",
       "      <td>78</td>\n",
       "      <td>42</td>\n",
       "      <td>42</td>\n",
       "      <td>7.628473</td>\n",
       "      <td>rice</td>\n",
       "    </tr>\n",
       "  </tbody>\n",
       "</table>\n",
       "</div>"
      ],
      "text/plain": [
       "    N   P   K        ph  crop\n",
       "0  90  42  43  6.502985  rice\n",
       "1  85  58  41  7.038096  rice\n",
       "2  60  55  44  7.840207  rice\n",
       "3  74  35  40  6.980401  rice\n",
       "4  78  42  42  7.628473  rice"
      ]
     },
     "execution_count": 2,
     "metadata": {},
     "output_type": "execute_result"
    }
   ],
   "source": [
    "df = pd.read_csv(\"soil_measures.csv\")\n",
    "df.head()"
   ]
  },
  {
   "cell_type": "code",
   "execution_count": 3,
   "id": "9a168817-c051-4821-bc80-a11d3d5f95ef",
   "metadata": {},
   "outputs": [
    {
     "data": {
      "text/html": [
       "<div>\n",
       "<style scoped>\n",
       "    .dataframe tbody tr th:only-of-type {\n",
       "        vertical-align: middle;\n",
       "    }\n",
       "\n",
       "    .dataframe tbody tr th {\n",
       "        vertical-align: top;\n",
       "    }\n",
       "\n",
       "    .dataframe thead th {\n",
       "        text-align: right;\n",
       "    }\n",
       "</style>\n",
       "<table border=\"1\" class=\"dataframe\">\n",
       "  <thead>\n",
       "    <tr style=\"text-align: right;\">\n",
       "      <th></th>\n",
       "      <th>N</th>\n",
       "      <th>P</th>\n",
       "      <th>K</th>\n",
       "      <th>ph</th>\n",
       "      <th>crop</th>\n",
       "    </tr>\n",
       "  </thead>\n",
       "  <tbody>\n",
       "    <tr>\n",
       "      <th>2195</th>\n",
       "      <td>107</td>\n",
       "      <td>34</td>\n",
       "      <td>32</td>\n",
       "      <td>6.780064</td>\n",
       "      <td>coffee</td>\n",
       "    </tr>\n",
       "    <tr>\n",
       "      <th>2196</th>\n",
       "      <td>99</td>\n",
       "      <td>15</td>\n",
       "      <td>27</td>\n",
       "      <td>6.086922</td>\n",
       "      <td>coffee</td>\n",
       "    </tr>\n",
       "    <tr>\n",
       "      <th>2197</th>\n",
       "      <td>118</td>\n",
       "      <td>33</td>\n",
       "      <td>30</td>\n",
       "      <td>6.362608</td>\n",
       "      <td>coffee</td>\n",
       "    </tr>\n",
       "    <tr>\n",
       "      <th>2198</th>\n",
       "      <td>117</td>\n",
       "      <td>32</td>\n",
       "      <td>34</td>\n",
       "      <td>6.758793</td>\n",
       "      <td>coffee</td>\n",
       "    </tr>\n",
       "    <tr>\n",
       "      <th>2199</th>\n",
       "      <td>104</td>\n",
       "      <td>18</td>\n",
       "      <td>30</td>\n",
       "      <td>6.779833</td>\n",
       "      <td>coffee</td>\n",
       "    </tr>\n",
       "  </tbody>\n",
       "</table>\n",
       "</div>"
      ],
      "text/plain": [
       "        N   P   K        ph    crop\n",
       "2195  107  34  32  6.780064  coffee\n",
       "2196   99  15  27  6.086922  coffee\n",
       "2197  118  33  30  6.362608  coffee\n",
       "2198  117  32  34  6.758793  coffee\n",
       "2199  104  18  30  6.779833  coffee"
      ]
     },
     "execution_count": 3,
     "metadata": {},
     "output_type": "execute_result"
    }
   ],
   "source": [
    "df.tail()"
   ]
  },
  {
   "cell_type": "code",
   "execution_count": 6,
   "id": "f6d48bbd-9be7-4724-98b9-ce13c0192f87",
   "metadata": {},
   "outputs": [
    {
     "data": {
      "text/html": [
       "<div>\n",
       "<style scoped>\n",
       "    .dataframe tbody tr th:only-of-type {\n",
       "        vertical-align: middle;\n",
       "    }\n",
       "\n",
       "    .dataframe tbody tr th {\n",
       "        vertical-align: top;\n",
       "    }\n",
       "\n",
       "    .dataframe thead th {\n",
       "        text-align: right;\n",
       "    }\n",
       "</style>\n",
       "<table border=\"1\" class=\"dataframe\">\n",
       "  <thead>\n",
       "    <tr style=\"text-align: right;\">\n",
       "      <th></th>\n",
       "      <th>N</th>\n",
       "      <th>P</th>\n",
       "      <th>K</th>\n",
       "      <th>ph</th>\n",
       "      <th>crop</th>\n",
       "    </tr>\n",
       "  </thead>\n",
       "  <tbody>\n",
       "    <tr>\n",
       "      <th>count</th>\n",
       "      <td>2200.0</td>\n",
       "      <td>2200.0</td>\n",
       "      <td>2200.0</td>\n",
       "      <td>2200.0</td>\n",
       "      <td>2200</td>\n",
       "    </tr>\n",
       "    <tr>\n",
       "      <th>unique</th>\n",
       "      <td>NaN</td>\n",
       "      <td>NaN</td>\n",
       "      <td>NaN</td>\n",
       "      <td>NaN</td>\n",
       "      <td>22</td>\n",
       "    </tr>\n",
       "    <tr>\n",
       "      <th>top</th>\n",
       "      <td>NaN</td>\n",
       "      <td>NaN</td>\n",
       "      <td>NaN</td>\n",
       "      <td>NaN</td>\n",
       "      <td>rice</td>\n",
       "    </tr>\n",
       "    <tr>\n",
       "      <th>freq</th>\n",
       "      <td>NaN</td>\n",
       "      <td>NaN</td>\n",
       "      <td>NaN</td>\n",
       "      <td>NaN</td>\n",
       "      <td>100</td>\n",
       "    </tr>\n",
       "    <tr>\n",
       "      <th>mean</th>\n",
       "      <td>51.0</td>\n",
       "      <td>53.0</td>\n",
       "      <td>48.0</td>\n",
       "      <td>6.0</td>\n",
       "      <td>NaN</td>\n",
       "    </tr>\n",
       "    <tr>\n",
       "      <th>std</th>\n",
       "      <td>37.0</td>\n",
       "      <td>33.0</td>\n",
       "      <td>51.0</td>\n",
       "      <td>1.0</td>\n",
       "      <td>NaN</td>\n",
       "    </tr>\n",
       "    <tr>\n",
       "      <th>min</th>\n",
       "      <td>0.0</td>\n",
       "      <td>5.0</td>\n",
       "      <td>5.0</td>\n",
       "      <td>4.0</td>\n",
       "      <td>NaN</td>\n",
       "    </tr>\n",
       "    <tr>\n",
       "      <th>25%</th>\n",
       "      <td>21.0</td>\n",
       "      <td>28.0</td>\n",
       "      <td>20.0</td>\n",
       "      <td>6.0</td>\n",
       "      <td>NaN</td>\n",
       "    </tr>\n",
       "    <tr>\n",
       "      <th>50%</th>\n",
       "      <td>37.0</td>\n",
       "      <td>51.0</td>\n",
       "      <td>32.0</td>\n",
       "      <td>6.0</td>\n",
       "      <td>NaN</td>\n",
       "    </tr>\n",
       "    <tr>\n",
       "      <th>75%</th>\n",
       "      <td>84.0</td>\n",
       "      <td>68.0</td>\n",
       "      <td>49.0</td>\n",
       "      <td>7.0</td>\n",
       "      <td>NaN</td>\n",
       "    </tr>\n",
       "    <tr>\n",
       "      <th>max</th>\n",
       "      <td>140.0</td>\n",
       "      <td>145.0</td>\n",
       "      <td>205.0</td>\n",
       "      <td>10.0</td>\n",
       "      <td>NaN</td>\n",
       "    </tr>\n",
       "  </tbody>\n",
       "</table>\n",
       "</div>"
      ],
      "text/plain": [
       "             N       P       K      ph  crop\n",
       "count   2200.0  2200.0  2200.0  2200.0  2200\n",
       "unique     NaN     NaN     NaN     NaN    22\n",
       "top        NaN     NaN     NaN     NaN  rice\n",
       "freq       NaN     NaN     NaN     NaN   100\n",
       "mean      51.0    53.0    48.0     6.0   NaN\n",
       "std       37.0    33.0    51.0     1.0   NaN\n",
       "min        0.0     5.0     5.0     4.0   NaN\n",
       "25%       21.0    28.0    20.0     6.0   NaN\n",
       "50%       37.0    51.0    32.0     6.0   NaN\n",
       "75%       84.0    68.0    49.0     7.0   NaN\n",
       "max      140.0   145.0   205.0    10.0   NaN"
      ]
     },
     "execution_count": 6,
     "metadata": {},
     "output_type": "execute_result"
    }
   ],
   "source": [
    "df.describe(include=\"all\").round()"
   ]
  },
  {
   "cell_type": "code",
   "execution_count": 7,
   "id": "14810a15-66d9-473b-bba7-af1072a5dcb0",
   "metadata": {},
   "outputs": [
    {
     "name": "stdout",
     "output_type": "stream",
     "text": [
      "<class 'pandas.core.frame.DataFrame'>\n",
      "RangeIndex: 2200 entries, 0 to 2199\n",
      "Data columns (total 5 columns):\n",
      " #   Column  Non-Null Count  Dtype  \n",
      "---  ------  --------------  -----  \n",
      " 0   N       2200 non-null   int64  \n",
      " 1   P       2200 non-null   int64  \n",
      " 2   K       2200 non-null   int64  \n",
      " 3   ph      2200 non-null   float64\n",
      " 4   crop    2200 non-null   object \n",
      "dtypes: float64(1), int64(3), object(1)\n",
      "memory usage: 86.1+ KB\n"
     ]
    }
   ],
   "source": [
    "df.info()"
   ]
  },
  {
   "cell_type": "code",
   "execution_count": 8,
   "id": "3cb38e87-47ae-4fef-9648-5f636e769bff",
   "metadata": {},
   "outputs": [
    {
     "data": {
      "text/plain": [
       "(2200, 5)"
      ]
     },
     "execution_count": 8,
     "metadata": {},
     "output_type": "execute_result"
    }
   ],
   "source": [
    "df.shape"
   ]
  },
  {
   "cell_type": "markdown",
   "id": "93e157db",
   "metadata": {},
   "source": [
    "# Check the number of classes in the target label"
   ]
  },
  {
   "cell_type": "code",
   "execution_count": 9,
   "id": "caf46fb7",
   "metadata": {},
   "outputs": [
    {
     "data": {
      "text/plain": [
       "crop\n",
       "rice           100\n",
       "maize          100\n",
       "jute           100\n",
       "cotton         100\n",
       "coconut        100\n",
       "papaya         100\n",
       "orange         100\n",
       "apple          100\n",
       "muskmelon      100\n",
       "watermelon     100\n",
       "grapes         100\n",
       "mango          100\n",
       "banana         100\n",
       "pomegranate    100\n",
       "lentil         100\n",
       "blackgram      100\n",
       "mungbean       100\n",
       "mothbeans      100\n",
       "pigeonpeas     100\n",
       "kidneybeans    100\n",
       "chickpea       100\n",
       "coffee         100\n",
       "Name: count, dtype: int64"
      ]
     },
     "execution_count": 9,
     "metadata": {},
     "output_type": "execute_result"
    }
   ],
   "source": [
    "df[\"crop\"].value_counts()"
   ]
  },
  {
   "cell_type": "markdown",
   "id": "dcf3e9c3",
   "metadata": {},
   "source": [
    "# Check is there missing data"
   ]
  },
  {
   "cell_type": "code",
   "execution_count": 10,
   "id": "065ef879",
   "metadata": {},
   "outputs": [
    {
     "data": {
      "text/plain": [
       "N       0\n",
       "P       0\n",
       "K       0\n",
       "ph      0\n",
       "crop    0\n",
       "dtype: int64"
      ]
     },
     "execution_count": 10,
     "metadata": {},
     "output_type": "execute_result"
    }
   ],
   "source": [
    "df.isna().sum()"
   ]
  },
  {
   "cell_type": "markdown",
   "id": "2ae66e56",
   "metadata": {},
   "source": [
    "# Train test split\n",
    "\n",
    "- Test size is 20%"
   ]
  },
  {
   "cell_type": "code",
   "execution_count": 14,
   "id": "37ba5da7",
   "metadata": {},
   "outputs": [],
   "source": [
    "from sklearn.model_selection import train_test_split\n",
    "X= df.loc[:,:'ph']\n",
    "y = df.loc[:,[\"crop\"]]\n",
    "X_train, X_test, y_train, y_test = train_test_split(X, y, test_size=0.20, random_state=42)"
   ]
  },
  {
   "cell_type": "markdown",
   "id": "a83ce43d",
   "metadata": {},
   "source": [
    "# Train a multiclass logistic regression model, make predictions and evaluate the model\n",
    "\n",
    "- Accuracy, f1-score, precision, recall, confusion matrix, and classification report."
   ]
  },
  {
   "cell_type": "code",
   "execution_count": 48,
   "id": "b5db07a5-b843-43ba-8b38-582b41633969",
   "metadata": {},
   "outputs": [],
   "source": [
    "def report(y_test,y_pred):\n",
    "    print(f'The accuracy of the model : {accuracy_score(y_test, y_pred)}')\n",
    "    print('The precision of the model :', precision_score(y_test, y_pred,average='micro'))\n",
    "    print('The recall of the model :',recall_score(y_test, y_pred,average='micro'))\n",
    "    print('The confusion matrix report :-\\n:',confusion_matrix(y_test, y_pred))\n",
    "    print('The classification report :-\\n:',classification_report(y_test, y_pred))"
   ]
  },
  {
   "cell_type": "code",
   "execution_count": 49,
   "id": "0b8dde2e",
   "metadata": {},
   "outputs": [
    {
     "data": {
      "text/html": [
       "<style>#sk-container-id-3 {color: black;}#sk-container-id-3 pre{padding: 0;}#sk-container-id-3 div.sk-toggleable {background-color: white;}#sk-container-id-3 label.sk-toggleable__label {cursor: pointer;display: block;width: 100%;margin-bottom: 0;padding: 0.3em;box-sizing: border-box;text-align: center;}#sk-container-id-3 label.sk-toggleable__label-arrow:before {content: \"▸\";float: left;margin-right: 0.25em;color: #696969;}#sk-container-id-3 label.sk-toggleable__label-arrow:hover:before {color: black;}#sk-container-id-3 div.sk-estimator:hover label.sk-toggleable__label-arrow:before {color: black;}#sk-container-id-3 div.sk-toggleable__content {max-height: 0;max-width: 0;overflow: hidden;text-align: left;background-color: #f0f8ff;}#sk-container-id-3 div.sk-toggleable__content pre {margin: 0.2em;color: black;border-radius: 0.25em;background-color: #f0f8ff;}#sk-container-id-3 input.sk-toggleable__control:checked~div.sk-toggleable__content {max-height: 200px;max-width: 100%;overflow: auto;}#sk-container-id-3 input.sk-toggleable__control:checked~label.sk-toggleable__label-arrow:before {content: \"▾\";}#sk-container-id-3 div.sk-estimator input.sk-toggleable__control:checked~label.sk-toggleable__label {background-color: #d4ebff;}#sk-container-id-3 div.sk-label input.sk-toggleable__control:checked~label.sk-toggleable__label {background-color: #d4ebff;}#sk-container-id-3 input.sk-hidden--visually {border: 0;clip: rect(1px 1px 1px 1px);clip: rect(1px, 1px, 1px, 1px);height: 1px;margin: -1px;overflow: hidden;padding: 0;position: absolute;width: 1px;}#sk-container-id-3 div.sk-estimator {font-family: monospace;background-color: #f0f8ff;border: 1px dotted black;border-radius: 0.25em;box-sizing: border-box;margin-bottom: 0.5em;}#sk-container-id-3 div.sk-estimator:hover {background-color: #d4ebff;}#sk-container-id-3 div.sk-parallel-item::after {content: \"\";width: 100%;border-bottom: 1px solid gray;flex-grow: 1;}#sk-container-id-3 div.sk-label:hover label.sk-toggleable__label {background-color: #d4ebff;}#sk-container-id-3 div.sk-serial::before {content: \"\";position: absolute;border-left: 1px solid gray;box-sizing: border-box;top: 0;bottom: 0;left: 50%;z-index: 0;}#sk-container-id-3 div.sk-serial {display: flex;flex-direction: column;align-items: center;background-color: white;padding-right: 0.2em;padding-left: 0.2em;position: relative;}#sk-container-id-3 div.sk-item {position: relative;z-index: 1;}#sk-container-id-3 div.sk-parallel {display: flex;align-items: stretch;justify-content: center;background-color: white;position: relative;}#sk-container-id-3 div.sk-item::before, #sk-container-id-3 div.sk-parallel-item::before {content: \"\";position: absolute;border-left: 1px solid gray;box-sizing: border-box;top: 0;bottom: 0;left: 50%;z-index: -1;}#sk-container-id-3 div.sk-parallel-item {display: flex;flex-direction: column;z-index: 1;position: relative;background-color: white;}#sk-container-id-3 div.sk-parallel-item:first-child::after {align-self: flex-end;width: 50%;}#sk-container-id-3 div.sk-parallel-item:last-child::after {align-self: flex-start;width: 50%;}#sk-container-id-3 div.sk-parallel-item:only-child::after {width: 0;}#sk-container-id-3 div.sk-dashed-wrapped {border: 1px dashed gray;margin: 0 0.4em 0.5em 0.4em;box-sizing: border-box;padding-bottom: 0.4em;background-color: white;}#sk-container-id-3 div.sk-label label {font-family: monospace;font-weight: bold;display: inline-block;line-height: 1.2em;}#sk-container-id-3 div.sk-label-container {text-align: center;}#sk-container-id-3 div.sk-container {/* jupyter's `normalize.less` sets `[hidden] { display: none; }` but bootstrap.min.css set `[hidden] { display: none !important; }` so we also need the `!important` here to be able to override the default hidden behavior on the sphinx rendered scikit-learn.org. See: https://github.com/scikit-learn/scikit-learn/issues/21755 */display: inline-block !important;position: relative;}#sk-container-id-3 div.sk-text-repr-fallback {display: none;}</style><div id=\"sk-container-id-3\" class=\"sk-top-container\"><div class=\"sk-text-repr-fallback\"><pre>LogisticRegression()</pre><b>In a Jupyter environment, please rerun this cell to show the HTML representation or trust the notebook. <br />On GitHub, the HTML representation is unable to render, please try loading this page with nbviewer.org.</b></div><div class=\"sk-container\" hidden><div class=\"sk-item\"><div class=\"sk-estimator sk-toggleable\"><input class=\"sk-toggleable__control sk-hidden--visually\" id=\"sk-estimator-id-3\" type=\"checkbox\" checked><label for=\"sk-estimator-id-3\" class=\"sk-toggleable__label sk-toggleable__label-arrow\">LogisticRegression</label><div class=\"sk-toggleable__content\"><pre>LogisticRegression()</pre></div></div></div></div></div>"
      ],
      "text/plain": [
       "LogisticRegression()"
      ]
     },
     "execution_count": 49,
     "metadata": {},
     "output_type": "execute_result"
    }
   ],
   "source": [
    "mymodel = LogisticRegression()\n",
    "mymodel.fit(X_train,y_train)"
   ]
  },
  {
   "cell_type": "code",
   "execution_count": 50,
   "id": "bd9368e9-5e5e-463e-8960-58543eaf7add",
   "metadata": {},
   "outputs": [],
   "source": [
    "from sklearn.metrics import \\\n",
    "     classification_report, confusion_matrix,\\\n",
    "     accuracy_score, precision_score, recall_score, f1_score, roc_auc_score ,roc_auc_score"
   ]
  },
  {
   "cell_type": "code",
   "execution_count": 51,
   "id": "cb7ca2d4-1c5b-4987-baba-ef6806da7f90",
   "metadata": {},
   "outputs": [
    {
     "name": "stdout",
     "output_type": "stream",
     "text": [
      "The accuracy of the model : 0.5681818181818182\n",
      "The precision of the model : 0.5681818181818182\n",
      "The recall of the model : 0.5681818181818182\n",
      "The confusion matrix report :-\n",
      ": [[ 4  0  0  0  0  0  0 19  0  0  0  0  0  0  0  0  0  0  0  0  0  0]\n",
      " [ 0 21  0  0  0  0  0  0  0  0  0  0  0  0  0  0  0  0  0  0  0  0]\n",
      " [ 0  0 10  0  0  0  0  0  0  1  7  0  0  1  1  0  0  0  0  0  0  0]\n",
      " [ 0  0  0 26  0  0  0  0  0  0  0  0  0  0  0  0  0  0  0  0  0  0]\n",
      " [ 0  0  0  0  5  0  0  0  0  0  0  0 10  0  0  0  0  0  0 11  0  1]\n",
      " [ 0  0  0  0  0 16  0  0  1  0  0  0  0  0  0  0  0  0  0  0  0  0]\n",
      " [ 0  0  0  0  0  0 17  0  0  0  0  0  0  0  0  0  0  0  0  0  0  0]\n",
      " [ 3  0  0  0  0  0  0 11  0  0  0  0  0  0  0  0  0  0  0  0  0  0]\n",
      " [ 0  2  0  0  0  1  0  0  8  0  0  0  0  0  0  0  0  2  0  0 10  0]\n",
      " [ 0  0  3  0  0  0  0  0  0  5  4  0  0  0  1  0  0  0  7  0  0  0]\n",
      " [ 0  0  1  0  0  0  0  0  0  1  6  0  0  1  1  0  0  0  1  0  0  0]\n",
      " [ 0  0  0  0  0  0  5  0  1  0  0 15  0  0  0  0  0  0  0  0  0  0]\n",
      " [ 0  0  0  0  3  0  0  0  1  0  0  0 12  1  0  0  0  1  0  1  0  0]\n",
      " [ 0  1  3  0  0  0  0  0  0  0  1  0  1  2 12  0  1  0  3  0  0  0]\n",
      " [ 0  0  5  0  0  0  0  0  0  0  1  0  1  2 10  0  0  0  0  0  0  0]\n",
      " [ 0  0  0  0  0  0  0  0  0  0  0  0  0  0  0 13  0  0  0  0  0  4]\n",
      " [ 0  0  0  0  0  0  0  0  0  0  0  0  0  0  0  0 14  0  0  0  0  0]\n",
      " [ 0  0  0  0  0  0  0  0  0  0  0  0  0  0  0  0  0 23  0  0  0  0]\n",
      " [ 0  0  4  0  0  0  0  0  0  6  5  0  0  0  2  0  0  0  6  0  0  0]\n",
      " [ 0  0  0  0  6  0  0  0  0  0  0  0  4  0  0  0  0  0  0 13  0  0]\n",
      " [ 0  2  0  0  0  0  0  0  8  0  0  1  0  0  0  0  0  1  0  0  7  0]\n",
      " [ 0  0  0  0  0  0  0  0  0  0  0  0  0  0  0 13  0  0  0  0  0  6]]\n",
      "The classification report :-\n",
      ":               precision    recall  f1-score   support\n",
      "\n",
      "       apple       0.57      0.17      0.27        23\n",
      "      banana       0.81      1.00      0.89        21\n",
      "   blackgram       0.38      0.50      0.43        20\n",
      "    chickpea       1.00      1.00      1.00        26\n",
      "     coconut       0.36      0.19      0.24        27\n",
      "      coffee       0.94      0.94      0.94        17\n",
      "      cotton       0.77      1.00      0.87        17\n",
      "      grapes       0.37      0.79      0.50        14\n",
      "        jute       0.42      0.35      0.38        23\n",
      " kidneybeans       0.38      0.25      0.30        20\n",
      "      lentil       0.25      0.55      0.34        11\n",
      "       maize       0.94      0.71      0.81        21\n",
      "       mango       0.43      0.63      0.51        19\n",
      "   mothbeans       0.29      0.08      0.13        24\n",
      "    mungbean       0.37      0.53      0.43        19\n",
      "   muskmelon       0.50      0.76      0.60        17\n",
      "      orange       0.93      1.00      0.97        14\n",
      "      papaya       0.85      1.00      0.92        23\n",
      "  pigeonpeas       0.35      0.26      0.30        23\n",
      " pomegranate       0.52      0.57      0.54        23\n",
      "        rice       0.41      0.37      0.39        19\n",
      "  watermelon       0.55      0.32      0.40        19\n",
      "\n",
      "    accuracy                           0.57       440\n",
      "   macro avg       0.56      0.59      0.55       440\n",
      "weighted avg       0.57      0.57      0.55       440\n",
      "\n"
     ]
    }
   ],
   "source": [
    "report(y_test,y_pred)"
   ]
  },
  {
   "cell_type": "markdown",
   "id": "e5f14035",
   "metadata": {},
   "source": [
    "# Train a SVM model, make predictions and evaluate the model\n",
    "\n",
    "- Accuracy, f1-score, precision, recall, confusion matrix, and classification report."
   ]
  },
  {
   "cell_type": "code",
   "execution_count": 52,
   "id": "18fccbee",
   "metadata": {},
   "outputs": [],
   "source": [
    "from sklearn import svm\n",
    "clf=svm.SVC(C=100)"
   ]
  },
  {
   "cell_type": "code",
   "execution_count": 53,
   "id": "12ccf428-7da7-422b-a5b9-8efaca902245",
   "metadata": {},
   "outputs": [],
   "source": [
    "clf.fit(X_train, y_train)\n",
    "y_p_svm=clf.predict(X_test)"
   ]
  },
  {
   "cell_type": "code",
   "execution_count": 54,
   "id": "e499d6ac-b349-455a-bf4a-8b02357c8653",
   "metadata": {},
   "outputs": [
    {
     "name": "stdout",
     "output_type": "stream",
     "text": [
      "The accuracy of the model : 0.6659090909090909\n",
      "The precision of the model : 0.6659090909090909\n",
      "The recall of the model : 0.6659090909090909\n",
      "The confusion matrix report :-\n",
      ": [[ 4  0  0  0  0  0  0 19  0  0  0  0  0  0  0  0  0  0  0  0  0  0]\n",
      " [ 0 21  0  0  0  0  0  0  0  0  0  0  0  0  0  0  0  0  0  0  0  0]\n",
      " [ 0  0 10  0  0  0  0  0  0  0  9  0  0  1  0  0  0  0  0  0  0  0]\n",
      " [ 0  0  0 26  0  0  0  0  0  0  0  0  0  0  0  0  0  0  0  0  0  0]\n",
      " [ 0  0  0  0 17  0  0  0  0  0  0  0 10  0  0  0  0  0  0  0  0  0]\n",
      " [ 0  0  0  0  0 16  1  0  0  0  0  0  0  0  0  0  0  0  0  0  0  0]\n",
      " [ 0  0  0  0  0  0 17  0  0  0  0  0  0  0  0  0  0  0  0  0  0  0]\n",
      " [ 2  0  0  0  0  0  0 12  0  0  0  0  0  0  0  0  0  0  0  0  0  0]\n",
      " [ 0  0  0  0  0  2  0  0 15  0  0  0  0  0  0  0  0  0  0  0  6  0]\n",
      " [ 0  0  2  0  0  0  0  0  0 14  0  0  0  0  1  0  0  0  3  0  0  0]\n",
      " [ 0  0  2  0  0  0  0  0  0  2  7  0  0  0  0  0  0  0  0  0  0  0]\n",
      " [ 0  0  1  0  0  0  1  0  0  0  0 19  0  0  0  0  0  0  0  0  0  0]\n",
      " [ 0  0  0  0  4  0  0  0  0  0  0  0 15  0  0  0  0  0  0  0  0  0]\n",
      " [ 0  0  0  0  0  0  0  0  0  4  1  0  0  6 13  0  0  0  0  0  0  0]\n",
      " [ 0  0  0  0  0  0  0  0  0  1  2  0  3  0 13  0  0  0  0  0  0  0]\n",
      " [ 0  0  0  0  0  0  0  0  0  0  0  0  0  0  0 10  0  0  0  0  0  7]\n",
      " [ 0  0  0  0  0  0  0  0  0  0  0  0  0  0  0  0 14  0  0  0  0  0]\n",
      " [ 0  0  0  0  0  0  0  0  0  0  0  0  0  0  0  0  0 22  0  0  1  0]\n",
      " [ 0  0  2  0  0  0  0  0  0 10  5  0  0  0  2  0  0  0  4  0  0  0]\n",
      " [ 0  0  0  0  0  0  0  0  0  0  0  0  3  0  0  0  0  0  0 20  0  0]\n",
      " [ 0  0  0  0  0  1  0  0 13  0  0  0  0  0  0  0  0  0  0  0  5  0]\n",
      " [ 0  0  0  0  0  0  0  0  0  0  0  0  0  0  0 13  0  0  0  0  0  6]]\n",
      "The classification report :-\n",
      ":               precision    recall  f1-score   support\n",
      "\n",
      "       apple       0.67      0.17      0.28        23\n",
      "      banana       1.00      1.00      1.00        21\n",
      "   blackgram       0.59      0.50      0.54        20\n",
      "    chickpea       1.00      1.00      1.00        26\n",
      "     coconut       0.81      0.63      0.71        27\n",
      "      coffee       0.84      0.94      0.89        17\n",
      "      cotton       0.89      1.00      0.94        17\n",
      "      grapes       0.39      0.86      0.53        14\n",
      "        jute       0.54      0.65      0.59        23\n",
      " kidneybeans       0.45      0.70      0.55        20\n",
      "      lentil       0.29      0.64      0.40        11\n",
      "       maize       1.00      0.90      0.95        21\n",
      "       mango       0.48      0.79      0.60        19\n",
      "   mothbeans       0.86      0.25      0.39        24\n",
      "    mungbean       0.45      0.68      0.54        19\n",
      "   muskmelon       0.43      0.59      0.50        17\n",
      "      orange       1.00      1.00      1.00        14\n",
      "      papaya       1.00      0.96      0.98        23\n",
      "  pigeonpeas       0.57      0.17      0.27        23\n",
      " pomegranate       1.00      0.87      0.93        23\n",
      "        rice       0.42      0.26      0.32        19\n",
      "  watermelon       0.46      0.32      0.37        19\n",
      "\n",
      "    accuracy                           0.67       440\n",
      "   macro avg       0.69      0.68      0.65       440\n",
      "weighted avg       0.71      0.67      0.65       440\n",
      "\n"
     ]
    }
   ],
   "source": [
    "report(y_test,y_p_svm)"
   ]
  },
  {
   "cell_type": "markdown",
   "id": "9d7b1f23",
   "metadata": {},
   "source": [
    "# Train a Decision tree model, make predictions and evaluate the model\n",
    "\n",
    "- Accuracy, f1-score, precision, recall, confusion matrix, and classification report."
   ]
  },
  {
   "cell_type": "code",
   "execution_count": 55,
   "id": "44482479",
   "metadata": {},
   "outputs": [],
   "source": [
    "from sklearn.tree import DecisionTreeClassifier\n",
    "dt = DecisionTreeClassifier()\n",
    "dt.fit(X_train, y_train)\n",
    "y_p_dt = dt.predict(X_test)"
   ]
  },
  {
   "cell_type": "code",
   "execution_count": 56,
   "id": "e5da2b18-38d6-47fa-a34d-f8446d686e37",
   "metadata": {},
   "outputs": [
    {
     "name": "stdout",
     "output_type": "stream",
     "text": [
      "The accuracy of the model : 0.775\n",
      "The precision of the model : 0.775\n",
      "The recall of the model : 0.775\n",
      "The confusion matrix report :-\n",
      ": [[16  0  0  0  0  0  0  7  0  0  0  0  0  0  0  0  0  0  0  0  0  0]\n",
      " [ 0 21  0  0  0  0  0  0  0  0  0  0  0  0  0  0  0  0  0  0  0  0]\n",
      " [ 0  0 14  0  0  0  0  0  0  0  3  0  0  1  0  0  0  0  2  0  0  0]\n",
      " [ 0  0  0 26  0  0  0  0  0  0  0  0  0  0  0  0  0  0  0  0  0  0]\n",
      " [ 0  0  0  0 24  0  0  0  0  0  0  0  2  0  0  0  0  0  0  1  0  0]\n",
      " [ 0  0  0  0  0 16  1  0  0  0  0  0  0  0  0  0  0  0  0  0  0  0]\n",
      " [ 0  0  0  0  0  0 17  0  0  0  0  0  0  0  0  0  0  0  0  0  0  0]\n",
      " [ 5  0  0  0  0  0  0  9  0  0  0  0  0  0  0  0  0  0  0  0  0  0]\n",
      " [ 0  0  0  0  0  2  0  0 11  0  0  0  0  0  0  0  0  0  0  0 10  0]\n",
      " [ 0  0  0  0  0  0  0  0  0 14  1  0  0  0  0  0  0  0  5  0  0  0]\n",
      " [ 0  0  1  0  0  0  0  0  0  1  4  0  0  0  0  0  0  0  5  0  0  0]\n",
      " [ 0  0  0  0  0  0  1  0  0  0  0 20  0  0  0  0  0  0  0  0  0  0]\n",
      " [ 0  0  0  0  4  0  0  0  0  0  0  0 13  1  1  0  0  0  0  0  0  0]\n",
      " [ 0  0  1  0  0  0  0  0  0  0  1  0  0 18  2  0  0  0  2  0  0  0]\n",
      " [ 0  0  0  0  0  0  0  0  0  0  1  0  0  0 17  0  0  0  1  0  0  0]\n",
      " [ 0  0  0  0  0  0  0  0  0  0  0  0  0  0  0 10  0  0  0  0  0  7]\n",
      " [ 0  0  0  0  0  0  0  0  0  0  0  0  0  0  0  0 14  0  0  0  0  0]\n",
      " [ 0  0  0  0  0  0  0  0  0  0  0  0  0  0  0  0  0 23  0  0  0  0]\n",
      " [ 0  0  0  0  0  0  0  0  0  4  7  0  0  1  0  0  0  0 11  0  0  0]\n",
      " [ 0  0  0  0  0  0  0  0  0  0  0  0  0  0  0  0  0  0  0 23  0  0]\n",
      " [ 0  0  0  0  0  0  0  0 12  0  0  0  0  0  0  0  0  0  0  0  7  0]\n",
      " [ 0  0  0  0  0  0  0  0  0  0  0  0  0  0  0  6  0  0  0  0  0 13]]\n",
      "The classification report :-\n",
      ":               precision    recall  f1-score   support\n",
      "\n",
      "       apple       0.76      0.70      0.73        23\n",
      "      banana       1.00      1.00      1.00        21\n",
      "   blackgram       0.88      0.70      0.78        20\n",
      "    chickpea       1.00      1.00      1.00        26\n",
      "     coconut       0.86      0.89      0.87        27\n",
      "      coffee       0.89      0.94      0.91        17\n",
      "      cotton       0.89      1.00      0.94        17\n",
      "      grapes       0.56      0.64      0.60        14\n",
      "        jute       0.48      0.48      0.48        23\n",
      " kidneybeans       0.74      0.70      0.72        20\n",
      "      lentil       0.24      0.36      0.29        11\n",
      "       maize       1.00      0.95      0.98        21\n",
      "       mango       0.87      0.68      0.76        19\n",
      "   mothbeans       0.86      0.75      0.80        24\n",
      "    mungbean       0.85      0.89      0.87        19\n",
      "   muskmelon       0.62      0.59      0.61        17\n",
      "      orange       1.00      1.00      1.00        14\n",
      "      papaya       1.00      1.00      1.00        23\n",
      "  pigeonpeas       0.42      0.48      0.45        23\n",
      " pomegranate       0.96      1.00      0.98        23\n",
      "        rice       0.41      0.37      0.39        19\n",
      "  watermelon       0.65      0.68      0.67        19\n",
      "\n",
      "    accuracy                           0.78       440\n",
      "   macro avg       0.77      0.76      0.76       440\n",
      "weighted avg       0.79      0.78      0.78       440\n",
      "\n"
     ]
    }
   ],
   "source": [
    "report(y_test,y_p_dt)"
   ]
  },
  {
   "cell_type": "markdown",
   "id": "266fb3cf",
   "metadata": {},
   "source": [
    "# Train a Decision tree model, make predictions and evaluate the model\n",
    "\n",
    "- Accuracy, f1-score, precision, recall, confusion matrix, and classification report."
   ]
  },
  {
   "cell_type": "code",
   "execution_count": 59,
   "id": "420b6933",
   "metadata": {},
   "outputs": [],
   "source": [
    "from sklearn.ensemble import RandomForestClassifier\n",
    "rf = RandomForestClassifier()\n",
    "rf.fit(X_train, y_train)\n",
    "y_p_rf = rf.predict(X_test)"
   ]
  },
  {
   "cell_type": "code",
   "execution_count": 60,
   "id": "eb985392-34f2-4eec-a161-526c05957a81",
   "metadata": {},
   "outputs": [
    {
     "name": "stdout",
     "output_type": "stream",
     "text": [
      "The accuracy of the model : 0.8068181818181818\n",
      "The precision of the model : 0.8068181818181818\n",
      "The recall of the model : 0.8068181818181818\n",
      "The confusion matrix report :-\n",
      ": [[16  0  0  0  0  0  0  7  0  0  0  0  0  0  0  0  0  0  0  0  0  0]\n",
      " [ 0 21  0  0  0  0  0  0  0  0  0  0  0  0  0  0  0  0  0  0  0  0]\n",
      " [ 0  0 15  0  0  0  0  0  0  0  4  0  0  0  0  0  0  0  1  0  0  0]\n",
      " [ 0  0  0 26  0  0  0  0  0  0  0  0  0  0  0  0  0  0  0  0  0  0]\n",
      " [ 0  0  0  0 23  0  0  0  0  0  0  0  3  0  0  0  0  0  0  1  0  0]\n",
      " [ 0  0  0  0  0 16  1  0  0  0  0  0  0  0  0  0  0  0  0  0  0  0]\n",
      " [ 0  0  0  0  0  0 17  0  0  0  0  0  0  0  0  0  0  0  0  0  0  0]\n",
      " [ 5  0  0  0  0  0  0  9  0  0  0  0  0  0  0  0  0  0  0  0  0  0]\n",
      " [ 0  0  0  0  0  3  0  0 14  0  0  0  0  0  0  0  0  0  0  0  6  0]\n",
      " [ 0  0  0  0  0  0  0  0  0 18  1  0  0  0  0  0  0  0  1  0  0  0]\n",
      " [ 0  0  1  0  0  0  0  0  0  1  8  0  0  0  0  0  0  0  1  0  0  0]\n",
      " [ 0  0  0  0  0  0  1  0  0  0  0 20  0  0  0  0  0  0  0  0  0  0]\n",
      " [ 0  0  0  0  3  0  0  0  0  0  0  0 14  1  1  0  0  0  0  0  0  0]\n",
      " [ 0  0  1  0  0  0  0  0  0  0  1  0  0 18  2  0  0  0  2  0  0  0]\n",
      " [ 0  0  0  0  0  0  0  0  0  0  0  0  0  0 19  0  0  0  0  0  0  0]\n",
      " [ 0  0  0  0  0  0  0  0  0  0  0  0  0  0  0 10  0  0  0  0  0  7]\n",
      " [ 0  0  0  0  0  0  0  0  0  0  0  0  0  0  0  0 14  0  0  0  0  0]\n",
      " [ 0  0  0  0  0  0  0  0  0  0  0  0  0  0  0  0  0 23  0  0  0  0]\n",
      " [ 0  0  0  0  0  0  0  0  0  4  5  0  0  1  2  0  0  0 11  0  0  0]\n",
      " [ 0  0  0  0  2  0  0  0  0  0  0  0  0  0  0  0  0  0  0 21  0  0]\n",
      " [ 0  0  0  0  0  0  0  0 11  0  0  0  0  0  0  0  0  0  0  0  8  0]\n",
      " [ 0  0  0  0  0  0  0  0  0  0  0  0  0  0  0  5  0  0  0  0  0 14]]\n",
      "The classification report :-\n",
      ":               precision    recall  f1-score   support\n",
      "\n",
      "       apple       0.76      0.70      0.73        23\n",
      "      banana       1.00      1.00      1.00        21\n",
      "   blackgram       0.88      0.75      0.81        20\n",
      "    chickpea       1.00      1.00      1.00        26\n",
      "     coconut       0.82      0.85      0.84        27\n",
      "      coffee       0.84      0.94      0.89        17\n",
      "      cotton       0.89      1.00      0.94        17\n",
      "      grapes       0.56      0.64      0.60        14\n",
      "        jute       0.56      0.61      0.58        23\n",
      " kidneybeans       0.78      0.90      0.84        20\n",
      "      lentil       0.42      0.73      0.53        11\n",
      "       maize       1.00      0.95      0.98        21\n",
      "       mango       0.82      0.74      0.78        19\n",
      "   mothbeans       0.90      0.75      0.82        24\n",
      "    mungbean       0.79      1.00      0.88        19\n",
      "   muskmelon       0.67      0.59      0.62        17\n",
      "      orange       1.00      1.00      1.00        14\n",
      "      papaya       1.00      1.00      1.00        23\n",
      "  pigeonpeas       0.69      0.48      0.56        23\n",
      " pomegranate       0.95      0.91      0.93        23\n",
      "        rice       0.57      0.42      0.48        19\n",
      "  watermelon       0.67      0.74      0.70        19\n",
      "\n",
      "    accuracy                           0.81       440\n",
      "   macro avg       0.80      0.80      0.80       440\n",
      "weighted avg       0.81      0.81      0.81       440\n",
      "\n"
     ]
    }
   ],
   "source": [
    "report(y_test,y_p_rf)"
   ]
  },
  {
   "cell_type": "markdown",
   "id": "7e8d13f5",
   "metadata": {},
   "source": [
    "# Train a default KNN model, make predictions and evaluate the model\n",
    "\n",
    "- Accuracy, f1-score, precision, recall, confusion matrix, and classification report."
   ]
  },
  {
   "cell_type": "code",
   "execution_count": 74,
   "id": "2c314d31",
   "metadata": {},
   "outputs": [
    {
     "name": "stdout",
     "output_type": "stream",
     "text": [
      "K= 1\n",
      "K= 2\n",
      "K= 3\n",
      "K= 5\n",
      "K= 7\n",
      "K= 10\n",
      "0.675\n"
     ]
    }
   ],
   "source": [
    "from sklearn.neighbors import KNeighborsClassifier\n",
    "max =0 \n",
    "x=1\n",
    "for i in range(1,1000):\n",
    "    if max < x:\n",
    "        max= accuracy_score(y_test, y_p_knn)\n",
    "        print(\"K=\",i)\n",
    "    # print(\"K=\",i)\n",
    "    knn = KNeighborsClassifier(n_neighbors=i)\n",
    "    knn.fit(X_train, y_train)\n",
    "    y_p_knn =knn.predict(X_test)\n",
    "    x =accuracy_score(y_test, y_p_knn)\n",
    "    # print(f'The accuracy of the model : {accuracy_score(y_test, y_p_knn)}')\n",
    "print(max)"
   ]
  },
  {
   "cell_type": "markdown",
   "id": "948b43b0",
   "metadata": {},
   "source": [
    "# Try different values of K in the KNN model and select the best one.\n",
    "\n",
    "- Based on the accuracy."
   ]
  },
  {
   "cell_type": "code",
   "execution_count": 75,
   "id": "d854ba49",
   "metadata": {},
   "outputs": [],
   "source": [
    "knn_b = KNeighborsClassifier(n_neighbors=10)\n",
    "knn_b.fit(X_train, y_train)\n",
    "y_p_knn_b =knn_b.predict(X_test)    "
   ]
  },
  {
   "cell_type": "code",
   "execution_count": 76,
   "id": "a16598d0-125d-4119-9170-74be8cbb7f43",
   "metadata": {},
   "outputs": [
    {
     "name": "stdout",
     "output_type": "stream",
     "text": [
      "The accuracy of the model : 0.6568181818181819\n",
      "The precision of the model : 0.6568181818181819\n",
      "The recall of the model : 0.6568181818181819\n",
      "The confusion matrix report :-\n",
      ": [[16  0  0  0  0  0  0  7  0  0  0  0  0  0  0  0  0  0  0  0  0  0]\n",
      " [ 0 21  0  0  0  0  0  0  0  0  0  0  0  0  0  0  0  0  0  0  0  0]\n",
      " [ 0  0 11  0  0  0  0  0  0  4  3  0  0  0  0  0  0  0  2  0  0  0]\n",
      " [ 0  0  0 26  0  0  0  0  0  0  0  0  0  0  0  0  0  0  0  0  0  0]\n",
      " [ 0  0  0  0 19  0  0  0  0  0  0  0  7  0  0  0  0  0  0  1  0  0]\n",
      " [ 0  0  0  0  0 15  1  0  1  0  0  0  0  0  0  0  0  0  0  0  0  0]\n",
      " [ 0  0  0  0  0  0 17  0  0  0  0  0  0  0  0  0  0  0  0  0  0  0]\n",
      " [ 7  0  0  0  0  0  0  7  0  0  0  0  0  0  0  0  0  0  0  0  0  0]\n",
      " [ 0  0  0  0  0  2  0  0 17  0  0  0  0  0  0  0  0  0  0  0  4  0]\n",
      " [ 0  0  4  0  0  0  0  0  0  5  5  0  0  3  1  0  0  0  2  0  0  0]\n",
      " [ 0  0  2  0  0  0  0  0  0  3  6  0  0  0  0  0  0  0  0  0  0  0]\n",
      " [ 0  0  1  0  0  0  3  0  0  0  0 17  0  0  0  0  0  0  0  0  0  0]\n",
      " [ 0  0  0  0  5  0  0  0  0  0  0  0 13  0  1  0  0  0  0  0  0  0]\n",
      " [ 0  0  0  0  0  0  0  0  0  1  1  0  0 10 12  0  0  0  0  0  0  0]\n",
      " [ 0  0  0  0  0  0  0  0  0  1  3  0  0  7  8  0  0  0  0  0  0  0]\n",
      " [ 0  0  0  0  0  0  0  0  0  0  0  0  0  0  0  6  0  0  0  0  0 11]\n",
      " [ 0  0  0  0  0  0  0  0  0  0  0  0  0  0  0  0 14  0  0  0  0  0]\n",
      " [ 0  0  0  0  0  0  0  0  0  0  0  0  0  0  0  0  0 22  0  0  1  0]\n",
      " [ 0  0  4  0  0  0  0  0  0  3  9  0  0  1  2  0  0  0  4  0  0  0]\n",
      " [ 0  0  0  0  0  0  0  0  0  0  0  0  3  0  0  0  0  0  0 20  0  0]\n",
      " [ 0  0  0  0  0  0  0  0 10  0  0  0  0  0  0  0  0  0  0  0  9  0]\n",
      " [ 0  0  0  0  0  0  0  0  0  0  0  0  0  0  0 13  0  0  0  0  0  6]]\n",
      "The classification report :-\n",
      ":               precision    recall  f1-score   support\n",
      "\n",
      "       apple       0.70      0.70      0.70        23\n",
      "      banana       1.00      1.00      1.00        21\n",
      "   blackgram       0.50      0.55      0.52        20\n",
      "    chickpea       1.00      1.00      1.00        26\n",
      "     coconut       0.79      0.70      0.75        27\n",
      "      coffee       0.88      0.88      0.88        17\n",
      "      cotton       0.81      1.00      0.89        17\n",
      "      grapes       0.50      0.50      0.50        14\n",
      "        jute       0.61      0.74      0.67        23\n",
      " kidneybeans       0.29      0.25      0.27        20\n",
      "      lentil       0.22      0.55      0.32        11\n",
      "       maize       1.00      0.81      0.89        21\n",
      "       mango       0.57      0.68      0.62        19\n",
      "   mothbeans       0.48      0.42      0.44        24\n",
      "    mungbean       0.33      0.42      0.37        19\n",
      "   muskmelon       0.32      0.35      0.33        17\n",
      "      orange       1.00      1.00      1.00        14\n",
      "      papaya       1.00      0.96      0.98        23\n",
      "  pigeonpeas       0.50      0.17      0.26        23\n",
      " pomegranate       0.95      0.87      0.91        23\n",
      "        rice       0.64      0.47      0.55        19\n",
      "  watermelon       0.35      0.32      0.33        19\n",
      "\n",
      "    accuracy                           0.66       440\n",
      "   macro avg       0.66      0.65      0.64       440\n",
      "weighted avg       0.67      0.66      0.66       440\n",
      "\n"
     ]
    }
   ],
   "source": [
    "report(y_test,y_p_knn_b)"
   ]
  }
 ],
 "metadata": {
  "colab": {
   "name": "Welcome to DataCamp Workspaces.ipynb",
   "provenance": []
  },
  "kernelspec": {
   "display_name": "Python 3 (ipykernel)",
   "language": "python",
   "name": "python3"
  },
  "language_info": {
   "codemirror_mode": {
    "name": "ipython",
    "version": 3
   },
   "file_extension": ".py",
   "mimetype": "text/x-python",
   "name": "python",
   "nbconvert_exporter": "python",
   "pygments_lexer": "ipython3",
   "version": "3.9.0"
  }
 },
 "nbformat": 4,
 "nbformat_minor": 5
}
