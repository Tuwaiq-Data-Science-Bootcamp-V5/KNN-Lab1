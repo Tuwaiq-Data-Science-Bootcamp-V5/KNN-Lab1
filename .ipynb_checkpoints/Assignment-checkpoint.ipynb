{
 "cells": [
  {
   "cell_type": "markdown",
   "id": "d3d001b0-2e2f-4b58-8442-99520bad831f",
   "metadata": {},
   "source": [
    "# Sowing Success: How Machine Learning Helps Farmers Select the Best Crops\n",
    "\n",
    "Measuring essential soil metrics such as nitrogen, phosphorous, potassium levels, and pH value is an important aspect of assessing soil condition. However, it can be an expensive and time-consuming process, which can cause farmers to prioritize which metrics to measure based on their budget constraints.\n",
    "\n",
    "Farmers have various options when it comes to deciding which crop to plant each season. Their primary objective is to maximize the yield of their crops, taking into account different factors. One crucial factor that affects crop growth is the condition of the soil in the field, which can be assessed by measuring basic elements such as nitrogen and potassium levels. Each crop has an ideal soil condition that ensures optimal growth and maximum yield.\n",
    "\n",
    "A farmer reached out to you as a machine learning expert for assistance in selecting the best crop for his field. They've provided you with a dataset called `soil_measures.csv`, which contains:\n",
    "\n",
    "- `\"N\"`: Nitrogen content ratio in the soil\n",
    "- `\"P\"`: Phosphorous content ratio in the soil\n",
    "- `\"K\"`: Potassium content ratio in the soil\n",
    "- `\"pH\"` value of the soil\n",
    "- `\"crop\"`: categorical values that contain various crops (target variable).\n",
    "\n",
    "Each row in this dataset represents various measures of the soil in a particular field. Based on these measurements, the crop specified in the `\"crop\"` column is the optimal choice for that field.  \n",
    "\n",
    "In this project, you will apply machine learning to build a multi-class classification model to predict the type of `\"crop\"`, while using techniques to avoid multicollinearity, which is a concept where two or more features are highly correlated."
   ]
  },
  {
   "cell_type": "markdown",
   "id": "aed30183",
   "metadata": {},
   "source": [
    "# Import Libraries"
   ]
  },
  {
   "cell_type": "code",
   "execution_count": null,
   "id": "0cad523c",
   "metadata": {},
   "outputs": [],
   "source": []
  },
  {
   "cell_type": "markdown",
   "id": "be1af3d5",
   "metadata": {},
   "source": [
    "# Load the Dataset and make EDA\n",
    "\n",
    "- Print the head, tail, describe, info, shape."
   ]
  },
  {
   "cell_type": "code",
   "execution_count": null,
   "id": "dc8e8172",
   "metadata": {},
   "outputs": [],
   "source": []
  },
  {
   "cell_type": "markdown",
   "id": "93e157db",
   "metadata": {},
   "source": [
    "# Check the number of classes in the target label"
   ]
  },
  {
   "cell_type": "code",
   "execution_count": null,
   "id": "caf46fb7",
   "metadata": {},
   "outputs": [],
   "source": []
  },
  {
   "cell_type": "markdown",
   "id": "dcf3e9c3",
   "metadata": {},
   "source": [
    "# Check is there missing data"
   ]
  },
  {
   "cell_type": "code",
   "execution_count": null,
   "id": "065ef879",
   "metadata": {},
   "outputs": [],
   "source": []
  },
  {
   "cell_type": "markdown",
   "id": "2ae66e56",
   "metadata": {},
   "source": [
    "# Train test split\n",
    "\n",
    "- Test size is 20%"
   ]
  },
  {
   "cell_type": "code",
   "execution_count": null,
   "id": "37ba5da7",
   "metadata": {},
   "outputs": [],
   "source": []
  },
  {
   "cell_type": "markdown",
   "id": "a83ce43d",
   "metadata": {},
   "source": [
    "# Train a multiclass logistic regression model, make predictions and evaluate the model\n",
    "\n",
    "- Accuracy, f1-score, precision, recall, confusion matrix, and classification report."
   ]
  },
  {
   "cell_type": "code",
   "execution_count": null,
   "id": "0b8dde2e",
   "metadata": {},
   "outputs": [],
   "source": []
  },
  {
   "cell_type": "markdown",
   "id": "e5f14035",
   "metadata": {},
   "source": [
    "# Train a SVM model, make predictions and evaluate the model\n",
    "\n",
    "- Accuracy, f1-score, precision, recall, confusion matrix, and classification report."
   ]
  },
  {
   "cell_type": "code",
   "execution_count": null,
   "id": "18fccbee",
   "metadata": {},
   "outputs": [],
   "source": []
  },
  {
   "cell_type": "markdown",
   "id": "9d7b1f23",
   "metadata": {},
   "source": [
    "# Train a Decision tree model, make predictions and evaluate the model\n",
    "\n",
    "- Accuracy, f1-score, precision, recall, confusion matrix, and classification report."
   ]
  },
  {
   "cell_type": "code",
   "execution_count": null,
   "id": "44482479",
   "metadata": {},
   "outputs": [],
   "source": []
  },
  {
   "cell_type": "markdown",
   "id": "266fb3cf",
   "metadata": {},
   "source": [
    "# Train a Decision tree model, make predictions and evaluate the model\n",
    "\n",
    "- Accuracy, f1-score, precision, recall, confusion matrix, and classification report."
   ]
  },
  {
   "cell_type": "code",
   "execution_count": null,
   "id": "420b6933",
   "metadata": {},
   "outputs": [],
   "source": []
  },
  {
   "cell_type": "markdown",
   "id": "7e8d13f5",
   "metadata": {},
   "source": [
    "# Train a default KNN model, make predictions and evaluate the model\n",
    "\n",
    "- Accuracy, f1-score, precision, recall, confusion matrix, and classification report."
   ]
  },
  {
   "cell_type": "code",
   "execution_count": null,
   "id": "2c314d31",
   "metadata": {},
   "outputs": [],
   "source": []
  },
  {
   "cell_type": "markdown",
   "id": "948b43b0",
   "metadata": {},
   "source": [
    "# Try different values of K in the KNN model and select the best one.\n",
    "\n",
    "- Based on the accuracy."
   ]
  },
  {
   "cell_type": "code",
   "execution_count": null,
   "id": "d854ba49",
   "metadata": {},
   "outputs": [],
   "source": []
  }
 ],
 "metadata": {
  "colab": {
   "name": "Welcome to DataCamp Workspaces.ipynb",
   "provenance": []
  },
  "kernelspec": {
   "display_name": "Python 3 (ipykernel)",
   "language": "python",
   "name": "python3"
  },
  "language_info": {
   "codemirror_mode": {
    "name": "ipython",
    "version": 3
   },
   "file_extension": ".py",
   "mimetype": "text/x-python",
   "name": "python",
   "nbconvert_exporter": "python",
   "pygments_lexer": "ipython3",
   "version": "3.9.12"
  }
 },
 "nbformat": 4,
 "nbformat_minor": 5
}
