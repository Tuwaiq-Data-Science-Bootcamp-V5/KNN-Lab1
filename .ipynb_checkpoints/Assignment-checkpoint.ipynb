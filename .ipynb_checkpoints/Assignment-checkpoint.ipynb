{
 "cells": [
  {
   "cell_type": "markdown",
   "id": "d3d001b0-2e2f-4b58-8442-99520bad831f",
   "metadata": {},
   "source": [
    "# Sowing Success: How Machine Learning Helps Farmers Select the Best Crops\n",
    "\n",
    "Measuring essential soil metrics such as nitrogen, phosphorous, potassium levels, and pH value is an important aspect of assessing soil condition. However, it can be an expensive and time-consuming process, which can cause farmers to prioritize which metrics to measure based on their budget constraints.\n",
    "\n",
    "Farmers have various options when it comes to deciding which crop to plant each season. Their primary objective is to maximize the yield of their crops, taking into account different factors. One crucial factor that affects crop growth is the condition of the soil in the field, which can be assessed by measuring basic elements such as nitrogen and potassium levels. Each crop has an ideal soil condition that ensures optimal growth and maximum yield.\n",
    "\n",
    "A farmer reached out to you as a machine learning expert for assistance in selecting the best crop for his field. They've provided you with a dataset called `soil_measures.csv`, which contains:\n",
    "\n",
    "- `\"N\"`: Nitrogen content ratio in the soil\n",
    "- `\"P\"`: Phosphorous content ratio in the soil\n",
    "- `\"K\"`: Potassium content ratio in the soil\n",
    "- `\"pH\"` value of the soil\n",
    "- `\"crop\"`: categorical values that contain various crops (target variable).\n",
    "\n",
    "Each row in this dataset represents various measures of the soil in a particular field. Based on these measurements, the crop specified in the `\"crop\"` column is the optimal choice for that field.  \n",
    "\n",
    "In this project, you will apply machine learning to build a multi-class classification model to predict the type of `\"crop\"`, while using techniques to avoid multicollinearity, which is a concept where two or more features are highly correlated."
   ]
  },
  {
   "cell_type": "markdown",
   "id": "aed30183",
   "metadata": {},
   "source": [
    "# Import Libraries"
   ]
  },
  {
   "cell_type": "code",
   "execution_count": 94,
   "id": "0cad523c",
   "metadata": {},
   "outputs": [],
   "source": [
    "import warnings\n",
    "warnings.filterwarnings('ignore')\n",
    "\n",
    "import numpy as np\n",
    "import pandas as pd\n",
    "import matplotlib.pyplot as plt\n",
    "%matplotlib inline\n",
    "import seaborn as sns\n",
    "import plotly.express as px\n",
    "\n",
    "from sklearn.linear_model import LogisticRegression\n",
    "from sklearn.metrics import accuracy_score,recall_score,precision_score,f1_score,confusion_matrix,classification_report\n",
    "from sklearn.model_selection import train_test_split\n",
    "from sklearn.ensemble import RandomForestClassifier"
   ]
  },
  {
   "cell_type": "markdown",
   "id": "be1af3d5",
   "metadata": {},
   "source": [
    "# Load the Dataset and make EDA\n",
    "\n",
    "- Print the head, tail, describe, info, shape."
   ]
  },
  {
   "cell_type": "code",
   "execution_count": 75,
   "id": "dc8e8172",
   "metadata": {},
   "outputs": [],
   "source": [
    "df = pd.read_csv('soil_measures.csv')"
   ]
  },
  {
   "cell_type": "code",
   "execution_count": 76,
   "id": "186634ae-e77f-4ed6-b22f-a121ca09c7b2",
   "metadata": {},
   "outputs": [
    {
     "data": {
      "text/html": [
       "<div>\n",
       "<style scoped>\n",
       "    .dataframe tbody tr th:only-of-type {\n",
       "        vertical-align: middle;\n",
       "    }\n",
       "\n",
       "    .dataframe tbody tr th {\n",
       "        vertical-align: top;\n",
       "    }\n",
       "\n",
       "    .dataframe thead th {\n",
       "        text-align: right;\n",
       "    }\n",
       "</style>\n",
       "<table border=\"1\" class=\"dataframe\">\n",
       "  <thead>\n",
       "    <tr style=\"text-align: right;\">\n",
       "      <th></th>\n",
       "      <th>N</th>\n",
       "      <th>P</th>\n",
       "      <th>K</th>\n",
       "      <th>ph</th>\n",
       "      <th>crop</th>\n",
       "    </tr>\n",
       "  </thead>\n",
       "  <tbody>\n",
       "    <tr>\n",
       "      <th>0</th>\n",
       "      <td>90</td>\n",
       "      <td>42</td>\n",
       "      <td>43</td>\n",
       "      <td>6.502985</td>\n",
       "      <td>rice</td>\n",
       "    </tr>\n",
       "    <tr>\n",
       "      <th>1</th>\n",
       "      <td>85</td>\n",
       "      <td>58</td>\n",
       "      <td>41</td>\n",
       "      <td>7.038096</td>\n",
       "      <td>rice</td>\n",
       "    </tr>\n",
       "    <tr>\n",
       "      <th>2</th>\n",
       "      <td>60</td>\n",
       "      <td>55</td>\n",
       "      <td>44</td>\n",
       "      <td>7.840207</td>\n",
       "      <td>rice</td>\n",
       "    </tr>\n",
       "    <tr>\n",
       "      <th>3</th>\n",
       "      <td>74</td>\n",
       "      <td>35</td>\n",
       "      <td>40</td>\n",
       "      <td>6.980401</td>\n",
       "      <td>rice</td>\n",
       "    </tr>\n",
       "    <tr>\n",
       "      <th>4</th>\n",
       "      <td>78</td>\n",
       "      <td>42</td>\n",
       "      <td>42</td>\n",
       "      <td>7.628473</td>\n",
       "      <td>rice</td>\n",
       "    </tr>\n",
       "  </tbody>\n",
       "</table>\n",
       "</div>"
      ],
      "text/plain": [
       "    N   P   K        ph  crop\n",
       "0  90  42  43  6.502985  rice\n",
       "1  85  58  41  7.038096  rice\n",
       "2  60  55  44  7.840207  rice\n",
       "3  74  35  40  6.980401  rice\n",
       "4  78  42  42  7.628473  rice"
      ]
     },
     "execution_count": 76,
     "metadata": {},
     "output_type": "execute_result"
    }
   ],
   "source": [
    "df.head()"
   ]
  },
  {
   "cell_type": "code",
   "execution_count": 77,
   "id": "5ab147e4-1c78-4874-a332-d329905e87c5",
   "metadata": {},
   "outputs": [
    {
     "data": {
      "text/html": [
       "<div>\n",
       "<style scoped>\n",
       "    .dataframe tbody tr th:only-of-type {\n",
       "        vertical-align: middle;\n",
       "    }\n",
       "\n",
       "    .dataframe tbody tr th {\n",
       "        vertical-align: top;\n",
       "    }\n",
       "\n",
       "    .dataframe thead th {\n",
       "        text-align: right;\n",
       "    }\n",
       "</style>\n",
       "<table border=\"1\" class=\"dataframe\">\n",
       "  <thead>\n",
       "    <tr style=\"text-align: right;\">\n",
       "      <th></th>\n",
       "      <th>N</th>\n",
       "      <th>P</th>\n",
       "      <th>K</th>\n",
       "      <th>ph</th>\n",
       "      <th>crop</th>\n",
       "    </tr>\n",
       "  </thead>\n",
       "  <tbody>\n",
       "    <tr>\n",
       "      <th>2195</th>\n",
       "      <td>107</td>\n",
       "      <td>34</td>\n",
       "      <td>32</td>\n",
       "      <td>6.780064</td>\n",
       "      <td>coffee</td>\n",
       "    </tr>\n",
       "    <tr>\n",
       "      <th>2196</th>\n",
       "      <td>99</td>\n",
       "      <td>15</td>\n",
       "      <td>27</td>\n",
       "      <td>6.086922</td>\n",
       "      <td>coffee</td>\n",
       "    </tr>\n",
       "    <tr>\n",
       "      <th>2197</th>\n",
       "      <td>118</td>\n",
       "      <td>33</td>\n",
       "      <td>30</td>\n",
       "      <td>6.362608</td>\n",
       "      <td>coffee</td>\n",
       "    </tr>\n",
       "    <tr>\n",
       "      <th>2198</th>\n",
       "      <td>117</td>\n",
       "      <td>32</td>\n",
       "      <td>34</td>\n",
       "      <td>6.758793</td>\n",
       "      <td>coffee</td>\n",
       "    </tr>\n",
       "    <tr>\n",
       "      <th>2199</th>\n",
       "      <td>104</td>\n",
       "      <td>18</td>\n",
       "      <td>30</td>\n",
       "      <td>6.779833</td>\n",
       "      <td>coffee</td>\n",
       "    </tr>\n",
       "  </tbody>\n",
       "</table>\n",
       "</div>"
      ],
      "text/plain": [
       "        N   P   K        ph    crop\n",
       "2195  107  34  32  6.780064  coffee\n",
       "2196   99  15  27  6.086922  coffee\n",
       "2197  118  33  30  6.362608  coffee\n",
       "2198  117  32  34  6.758793  coffee\n",
       "2199  104  18  30  6.779833  coffee"
      ]
     },
     "execution_count": 77,
     "metadata": {},
     "output_type": "execute_result"
    }
   ],
   "source": [
    "df.tail()"
   ]
  },
  {
   "cell_type": "code",
   "execution_count": 78,
   "id": "ad4dcad2-00e2-4932-a39e-167bce604a73",
   "metadata": {},
   "outputs": [
    {
     "data": {
      "text/html": [
       "<div>\n",
       "<style scoped>\n",
       "    .dataframe tbody tr th:only-of-type {\n",
       "        vertical-align: middle;\n",
       "    }\n",
       "\n",
       "    .dataframe tbody tr th {\n",
       "        vertical-align: top;\n",
       "    }\n",
       "\n",
       "    .dataframe thead th {\n",
       "        text-align: right;\n",
       "    }\n",
       "</style>\n",
       "<table border=\"1\" class=\"dataframe\">\n",
       "  <thead>\n",
       "    <tr style=\"text-align: right;\">\n",
       "      <th></th>\n",
       "      <th>N</th>\n",
       "      <th>P</th>\n",
       "      <th>K</th>\n",
       "      <th>ph</th>\n",
       "    </tr>\n",
       "  </thead>\n",
       "  <tbody>\n",
       "    <tr>\n",
       "      <th>count</th>\n",
       "      <td>2200.000000</td>\n",
       "      <td>2200.000000</td>\n",
       "      <td>2200.000000</td>\n",
       "      <td>2200.000000</td>\n",
       "    </tr>\n",
       "    <tr>\n",
       "      <th>mean</th>\n",
       "      <td>50.551818</td>\n",
       "      <td>53.362727</td>\n",
       "      <td>48.149091</td>\n",
       "      <td>6.469480</td>\n",
       "    </tr>\n",
       "    <tr>\n",
       "      <th>std</th>\n",
       "      <td>36.917334</td>\n",
       "      <td>32.985883</td>\n",
       "      <td>50.647931</td>\n",
       "      <td>0.773938</td>\n",
       "    </tr>\n",
       "    <tr>\n",
       "      <th>min</th>\n",
       "      <td>0.000000</td>\n",
       "      <td>5.000000</td>\n",
       "      <td>5.000000</td>\n",
       "      <td>3.504752</td>\n",
       "    </tr>\n",
       "    <tr>\n",
       "      <th>25%</th>\n",
       "      <td>21.000000</td>\n",
       "      <td>28.000000</td>\n",
       "      <td>20.000000</td>\n",
       "      <td>5.971693</td>\n",
       "    </tr>\n",
       "    <tr>\n",
       "      <th>50%</th>\n",
       "      <td>37.000000</td>\n",
       "      <td>51.000000</td>\n",
       "      <td>32.000000</td>\n",
       "      <td>6.425045</td>\n",
       "    </tr>\n",
       "    <tr>\n",
       "      <th>75%</th>\n",
       "      <td>84.250000</td>\n",
       "      <td>68.000000</td>\n",
       "      <td>49.000000</td>\n",
       "      <td>6.923643</td>\n",
       "    </tr>\n",
       "    <tr>\n",
       "      <th>max</th>\n",
       "      <td>140.000000</td>\n",
       "      <td>145.000000</td>\n",
       "      <td>205.000000</td>\n",
       "      <td>9.935091</td>\n",
       "    </tr>\n",
       "  </tbody>\n",
       "</table>\n",
       "</div>"
      ],
      "text/plain": [
       "                 N            P            K           ph\n",
       "count  2200.000000  2200.000000  2200.000000  2200.000000\n",
       "mean     50.551818    53.362727    48.149091     6.469480\n",
       "std      36.917334    32.985883    50.647931     0.773938\n",
       "min       0.000000     5.000000     5.000000     3.504752\n",
       "25%      21.000000    28.000000    20.000000     5.971693\n",
       "50%      37.000000    51.000000    32.000000     6.425045\n",
       "75%      84.250000    68.000000    49.000000     6.923643\n",
       "max     140.000000   145.000000   205.000000     9.935091"
      ]
     },
     "execution_count": 78,
     "metadata": {},
     "output_type": "execute_result"
    }
   ],
   "source": [
    "df.describe()"
   ]
  },
  {
   "cell_type": "code",
   "execution_count": 79,
   "id": "cdee85fe-4bdc-4791-80de-fa272b38aa0e",
   "metadata": {},
   "outputs": [
    {
     "name": "stdout",
     "output_type": "stream",
     "text": [
      "<class 'pandas.core.frame.DataFrame'>\n",
      "RangeIndex: 2200 entries, 0 to 2199\n",
      "Data columns (total 5 columns):\n",
      " #   Column  Non-Null Count  Dtype  \n",
      "---  ------  --------------  -----  \n",
      " 0   N       2200 non-null   int64  \n",
      " 1   P       2200 non-null   int64  \n",
      " 2   K       2200 non-null   int64  \n",
      " 3   ph      2200 non-null   float64\n",
      " 4   crop    2200 non-null   object \n",
      "dtypes: float64(1), int64(3), object(1)\n",
      "memory usage: 86.1+ KB\n"
     ]
    }
   ],
   "source": [
    "df.info()"
   ]
  },
  {
   "cell_type": "code",
   "execution_count": 80,
   "id": "6f2d0d8b-2619-489e-815e-d7cf0de722d7",
   "metadata": {},
   "outputs": [
    {
     "data": {
      "text/plain": [
       "(2200, 5)"
      ]
     },
     "execution_count": 80,
     "metadata": {},
     "output_type": "execute_result"
    }
   ],
   "source": [
    "df.shape"
   ]
  },
  {
   "cell_type": "markdown",
   "id": "93e157db",
   "metadata": {},
   "source": [
    "# Check the number of classes in the target label"
   ]
  },
  {
   "cell_type": "code",
   "execution_count": 87,
   "id": "caf46fb7",
   "metadata": {},
   "outputs": [
    {
     "name": "stdout",
     "output_type": "stream",
     "text": [
      "22\n"
     ]
    },
    {
     "data": {
      "text/plain": [
       "array(['rice', 'maize', 'chickpea', 'kidneybeans', 'pigeonpeas',\n",
       "       'mothbeans', 'mungbean', 'blackgram', 'lentil', 'pomegranate',\n",
       "       'banana', 'mango', 'grapes', 'watermelon', 'muskmelon', 'apple',\n",
       "       'orange', 'papaya', 'coconut', 'cotton', 'jute', 'coffee'],\n",
       "      dtype=object)"
      ]
     },
     "execution_count": 87,
     "metadata": {},
     "output_type": "execute_result"
    }
   ],
   "source": [
    "print(len(df['crop'].unique()))\n",
    "df['crop'].unique()"
   ]
  },
  {
   "cell_type": "markdown",
   "id": "dcf3e9c3",
   "metadata": {},
   "source": [
    "# Check is there missing data"
   ]
  },
  {
   "cell_type": "code",
   "execution_count": 88,
   "id": "065ef879",
   "metadata": {},
   "outputs": [
    {
     "data": {
      "text/plain": [
       "N       0\n",
       "P       0\n",
       "K       0\n",
       "ph      0\n",
       "crop    0\n",
       "dtype: int64"
      ]
     },
     "execution_count": 88,
     "metadata": {},
     "output_type": "execute_result"
    }
   ],
   "source": [
    "df.isnull().sum()"
   ]
  },
  {
   "cell_type": "markdown",
   "id": "2ae66e56",
   "metadata": {},
   "source": [
    "# Train test split\n",
    "\n",
    "- Test size is 20%"
   ]
  },
  {
   "cell_type": "code",
   "execution_count": 89,
   "id": "37ba5da7",
   "metadata": {},
   "outputs": [],
   "source": [
    "X = df.drop('crop', axis = 1)\n",
    "Y = df['crop']\n",
    "\n",
    "\n",
    "X_train, X_test, Y_train, Y_test = train_test_split(X, Y, test_size=0.2)"
   ]
  },
  {
   "cell_type": "markdown",
   "id": "a83ce43d",
   "metadata": {},
   "source": [
    "# Train a multiclass logistic regression model, make predictions and evaluate the model\n",
    "\n",
    "- Accuracy, f1-score, precision, recall, confusion matrix, and classification report."
   ]
  },
  {
   "cell_type": "code",
   "execution_count": 90,
   "id": "0b8dde2e",
   "metadata": {
    "scrolled": true
   },
   "outputs": [
    {
     "name": "stdout",
     "output_type": "stream",
     "text": [
      "accuracy =  0.5772727272727273\n",
      "f1-score =  0.5592058910332648\n",
      "precision =  0.570083770772948\n",
      "recall =  0.5772727272727273\n",
      "confusion matrix is :\n",
      " [[ 9  0  0  0  0  0  0 13  0  0  0  0  0  0  0  0  0  0  0  0  0  0]\n",
      " [ 0 21  0  0  0  0  0  0  0  0  0  0  0  0  0  0  0  0  0  0  1  0]\n",
      " [ 0  0  9  0  0  0  0  0  0  0  3  1  0  1  0  0  0  0  1  0  0  0]\n",
      " [ 0  0  0 18  0  0  0  0  0  0  0  0  0  0  0  0  0  0  0  0  0  0]\n",
      " [ 0  0  0  0  2  0  0  0  0  0  0  0  6  0  0  0  0  1  0  7  0  0]\n",
      " [ 0  0  0  0  0 17  0  0  1  0  0  0  0  0  0  0  0  0  0  0  0  0]\n",
      " [ 0  0  0  0  0  2 21  0  0  0  0  0  0  0  0  0  0  0  0  0  0  0]\n",
      " [11  0  0  0  0  0  0 12  0  0  0  0  0  0  0  0  0  0  0  0  0  0]\n",
      " [ 0  3  0  0  0  2  0  0 10  0  0  1  0  0  0  0  0  1  0  0  3  0]\n",
      " [ 0  0  1  0  0  0  0  0  0  2  6  0  0  2  0  0  0  0 13  0  0  0]\n",
      " [ 0  0  4  0  0  0  0  0  0  0 12  0  0  0  0  0  0  0  5  0  0  0]\n",
      " [ 0  0  0  0  0  0  3  0  0  0  0 14  0  0  0  0  0  0  0  0  0  0]\n",
      " [ 2  0  0  0  5  0  0  0  0  0  0  0  9  0  0  0  0  1  0  1  0  0]\n",
      " [ 0  0  3  0  0  0  0  0  0  0  1  0  2  2  9  0  3  0  2  0  0  0]\n",
      " [ 0  0  3  0  0  0  0  0  0  0  0  0  0  3 13  0  1  0  0  0  0  0]\n",
      " [ 0  0  0  0  0  0  0  0  0  0  0  0  0  0  0  9  0  0  0  0  1  8]\n",
      " [ 0  0  0  0  1  0  0  0  0  0  1  0  1  0  2  0 21  0  0  0  0  0]\n",
      " [ 0  1  0  0  0  0  0  0  1  0  0  0  0  0  0  0  0 18  0  0  0  0]\n",
      " [ 0  0  5  0  0  0  0  0  0  2  3  0  0  3  0  0  0  0  7  0  0  0]\n",
      " [ 0  0  0  0  7  0  0  0  0  0  0  0  1  0  0  0  0  0  0 11  0  0]\n",
      " [ 0  5  0  0  0  0  0  0  7  0  0  1  0  0  0  0  0  2  0  0  6  0]\n",
      " [ 0  0  0  0  0  0  0  0  0  0  0  0  0  0  0  6  0  0  0  0  0 11]]\n",
      "\n",
      "here is the classification report :\n",
      "               precision    recall  f1-score   support\n",
      "\n",
      "       apple       0.41      0.41      0.41        22\n",
      "      banana       0.70      0.95      0.81        22\n",
      "   blackgram       0.36      0.60      0.45        15\n",
      "    chickpea       1.00      1.00      1.00        18\n",
      "     coconut       0.13      0.12      0.13        16\n",
      "      coffee       0.81      0.94      0.87        18\n",
      "      cotton       0.88      0.91      0.89        23\n",
      "      grapes       0.48      0.52      0.50        23\n",
      "        jute       0.53      0.50      0.51        20\n",
      " kidneybeans       0.50      0.08      0.14        24\n",
      "      lentil       0.46      0.57      0.51        21\n",
      "       maize       0.82      0.82      0.82        17\n",
      "       mango       0.47      0.50      0.49        18\n",
      "   mothbeans       0.18      0.09      0.12        22\n",
      "    mungbean       0.54      0.65      0.59        20\n",
      "   muskmelon       0.60      0.50      0.55        18\n",
      "      orange       0.84      0.81      0.82        26\n",
      "      papaya       0.78      0.90      0.84        20\n",
      "  pigeonpeas       0.25      0.35      0.29        20\n",
      " pomegranate       0.58      0.58      0.58        19\n",
      "        rice       0.55      0.29      0.37        21\n",
      "  watermelon       0.58      0.65      0.61        17\n",
      "\n",
      "    accuracy                           0.58       440\n",
      "   macro avg       0.57      0.58      0.56       440\n",
      "weighted avg       0.57      0.58      0.56       440\n",
      "\n"
     ]
    }
   ],
   "source": [
    "model = LogisticRegression()\n",
    "model.fit(X_train, Y_train)\n",
    "Y_pred = model.predict(X_test)\n",
    "print('accuracy = ',accuracy_score(Y_test,Y_pred))\n",
    "print('f1-score = ',f1_score(Y_test,Y_pred,average='weighted'))\n",
    "print('precision = ',precision_score(Y_test,Y_pred,average='weighted'))\n",
    "print('recall = ',recall_score(Y_test,Y_pred,average='weighted'))\n",
    "print('confusion matrix is :\\n',confusion_matrix(Y_test,Y_pred))\n",
    "print('\\nhere is the classification report :\\n',classification_report(Y_test,Y_pred))"
   ]
  },
  {
   "cell_type": "markdown",
   "id": "e5f14035",
   "metadata": {},
   "source": [
    "# Train a SVM model, make predictions and evaluate the model\n",
    "\n",
    "- Accuracy, f1-score, precision, recall, confusion matrix, and classification report."
   ]
  },
  {
   "cell_type": "code",
   "execution_count": 91,
   "id": "18fccbee",
   "metadata": {},
   "outputs": [
    {
     "name": "stdout",
     "output_type": "stream",
     "text": [
      "accuracy =  0.6818181818181818\n",
      "f1-score =  0.6798824672064683\n",
      "precision =  0.6875015199447018\n",
      "recall =  0.6818181818181818\n",
      "confusion matrix is :\n",
      " [[12  0  0  0  0  0  0 10  0  0  0  0  0  0  0  0  0  0  0  0  0  0]\n",
      " [ 0 22  0  0  0  0  0  0  0  0  0  0  0  0  0  0  0  0  0  0  0  0]\n",
      " [ 0  0  9  0  0  0  0  0  0  0  5  1  0  0  0  0  0  0  0  0  0  0]\n",
      " [ 0  0  0 18  0  0  0  0  0  0  0  0  0  0  0  0  0  0  0  0  0  0]\n",
      " [ 0  0  0  0 10  0  0  0  0  0  0  0  6  0  0  0  0  0  0  0  0  0]\n",
      " [ 0  0  0  0  0 17  0  0  1  0  0  0  0  0  0  0  0  0  0  0  0  0]\n",
      " [ 0  0  0  0  0  2 21  0  0  0  0  0  0  0  0  0  0  0  0  0  0  0]\n",
      " [14  0  0  0  0  0  0  9  0  0  0  0  0  0  0  0  0  0  0  0  0  0]\n",
      " [ 0  0  0  0  0  1  0  0 15  0  0  0  0  0  0  0  0  0  0  0  4  0]\n",
      " [ 0  0  0  0  0  0  0  0  0  6  0  0  0  2  0  0  0  0 16  0  0  0]\n",
      " [ 0  0  4  0  0  0  0  0  0  1  9  0  0  2  0  0  0  0  5  0  0  0]\n",
      " [ 0  0  0  0  0  0  1  0  0  0  0 16  0  0  0  0  0  0  0  0  0  0]\n",
      " [ 0  0  0  0  5  0  0  0  0  0  0  0 13  0  0  0  0  0  0  0  0  0]\n",
      " [ 0  0  2  0  0  0  0  0  0  1  0  0  0  5 14  0  0  0  0  0  0  0]\n",
      " [ 0  0  1  0  0  0  0  0  0  0  1  0  0  6 12  0  0  0  0  0  0  0]\n",
      " [ 0  0  0  0  0  0  0  0  0  0  0  0  0  0  0 15  0  0  0  0  0  3]\n",
      " [ 0  0  0  0  0  0  0  0  0  0  0  0  0  0  0  0 26  0  0  0  0  0]\n",
      " [ 0  0  0  0  0  0  0  0  2  0  0  0  0  0  0  0  0 18  0  0  0  0]\n",
      " [ 0  0  3  0  0  0  0  0  0  7  3  0  0  1  0  0  0  0  6  0  0  0]\n",
      " [ 0  0  0  0  0  0  0  0  0  0  0  0  1  0  0  0  0  0  0 18  0  0]\n",
      " [ 0  0  0  0  0  0  0  0  9  0  0  0  0  0  0  0  0  0  0  0 12  0]\n",
      " [ 0  0  0  0  0  0  0  0  0  0  0  0  0  0  0  6  0  0  0  0  0 11]]\n",
      "\n",
      "here is the classification report :\n",
      "               precision    recall  f1-score   support\n",
      "\n",
      "       apple       0.46      0.55      0.50        22\n",
      "      banana       1.00      1.00      1.00        22\n",
      "   blackgram       0.47      0.60      0.53        15\n",
      "    chickpea       1.00      1.00      1.00        18\n",
      "     coconut       0.67      0.62      0.65        16\n",
      "      coffee       0.85      0.94      0.89        18\n",
      "      cotton       0.95      0.91      0.93        23\n",
      "      grapes       0.47      0.39      0.43        23\n",
      "        jute       0.56      0.75      0.64        20\n",
      " kidneybeans       0.40      0.25      0.31        24\n",
      "      lentil       0.50      0.43      0.46        21\n",
      "       maize       0.94      0.94      0.94        17\n",
      "       mango       0.65      0.72      0.68        18\n",
      "   mothbeans       0.31      0.23      0.26        22\n",
      "    mungbean       0.46      0.60      0.52        20\n",
      "   muskmelon       0.71      0.83      0.77        18\n",
      "      orange       1.00      1.00      1.00        26\n",
      "      papaya       1.00      0.90      0.95        20\n",
      "  pigeonpeas       0.22      0.30      0.26        20\n",
      " pomegranate       1.00      0.95      0.97        19\n",
      "        rice       0.75      0.57      0.65        21\n",
      "  watermelon       0.79      0.65      0.71        17\n",
      "\n",
      "    accuracy                           0.68       440\n",
      "   macro avg       0.69      0.69      0.68       440\n",
      "weighted avg       0.69      0.68      0.68       440\n",
      "\n"
     ]
    }
   ],
   "source": [
    "from sklearn import svm\n",
    "model=svm.SVC(kernel='linear')\n",
    "model.fit(X_train, Y_train)\n",
    "Y_pred = model.predict(X_test)\n",
    "print('accuracy = ',accuracy_score(Y_test,Y_pred))\n",
    "print('f1-score = ',f1_score(Y_test,Y_pred,average='weighted'))\n",
    "print('precision = ',precision_score(Y_test,Y_pred,average='weighted'))\n",
    "print('recall = ',recall_score(Y_test,Y_pred,average='weighted'))\n",
    "print('confusion matrix is :\\n',confusion_matrix(Y_test,Y_pred))\n",
    "print('\\nhere is the classification report :\\n',classification_report(Y_test,Y_pred))"
   ]
  },
  {
   "cell_type": "markdown",
   "id": "9d7b1f23",
   "metadata": {},
   "source": [
    "# Train a Decision tree model, make predictions and evaluate the model\n",
    "\n",
    "- Accuracy, f1-score, precision, recall, confusion matrix, and classification report."
   ]
  },
  {
   "cell_type": "code",
   "execution_count": 92,
   "id": "44482479",
   "metadata": {},
   "outputs": [
    {
     "name": "stdout",
     "output_type": "stream",
     "text": [
      "accuracy =  0.775\n",
      "f1-score =  0.7736874192480597\n",
      "precision =  0.7779476723436053\n",
      "recall =  0.775\n",
      "confusion matrix is :\n",
      " [[10  0  0  0  0  0  0 12  0  0  0  0  0  0  0  0  0  0  0  0  0  0]\n",
      " [ 0 22  0  0  0  0  0  0  0  0  0  0  0  0  0  0  0  0  0  0  0  0]\n",
      " [ 0  0 13  0  0  0  0  0  0  0  2  0  0  0  0  0  0  0  0  0  0  0]\n",
      " [ 0  0  0 18  0  0  0  0  0  0  0  0  0  0  0  0  0  0  0  0  0  0]\n",
      " [ 0  0  0  0 14  0  0  0  0  0  0  0  2  0  0  0  0  0  0  0  0  0]\n",
      " [ 0  0  0  0  0 18  0  0  0  0  0  0  0  0  0  0  0  0  0  0  0  0]\n",
      " [ 0  0  0  0  0  4 19  0  0  0  0  0  0  0  0  0  0  0  0  0  0  0]\n",
      " [ 9  0  0  0  0  0  0 14  0  0  0  0  0  0  0  0  0  0  0  0  0  0]\n",
      " [ 0  0  0  0  0  0  0  0 13  0  0  0  0  0  0  0  0  0  0  0  7  0]\n",
      " [ 0  0  0  0  0  0  0  0  0 16  2  0  0  0  0  0  0  0  6  0  0  0]\n",
      " [ 0  0  4  0  0  0  0  0  0  2  9  0  0  1  1  0  0  0  4  0  0  0]\n",
      " [ 0  0  0  0  0  0  1  0  0  0  0 16  0  0  0  0  0  0  0  0  0  0]\n",
      " [ 0  0  0  0  4  0  0  0  0  0  0  0 13  0  0  0  0  0  0  1  0  0]\n",
      " [ 0  0  0  0  0  0  0  0  0  1  1  0  0 19  1  0  0  0  0  0  0  0]\n",
      " [ 0  0  2  0  0  0  0  0  0  0  0  0  0  1 17  0  0  0  0  0  0  0]\n",
      " [ 0  0  0  0  0  0  0  0  0  0  0  0  0  0  0 10  0  0  0  0  0  8]\n",
      " [ 0  0  0  0  0  0  0  0  0  0  0  0  0  0  0  0 26  0  0  0  0  0]\n",
      " [ 0  0  0  0  0  0  0  0  0  0  0  0  0  0  0  0  0 20  0  0  0  0]\n",
      " [ 0  0  2  0  0  0  0  0  0  2  4  0  0  0  2  0  0  0 10  0  0  0]\n",
      " [ 0  0  0  0  1  0  0  0  0  0  0  0  0  0  0  0  0  0  0 18  0  0]\n",
      " [ 0  0  0  0  0  0  0  0  7  0  0  0  0  0  0  0  0  0  0  0 14  0]\n",
      " [ 0  0  0  0  0  0  0  0  0  0  0  0  0  0  0  5  0  0  0  0  0 12]]\n",
      "\n",
      "here is the classification report :\n",
      "               precision    recall  f1-score   support\n",
      "\n",
      "       apple       0.53      0.45      0.49        22\n",
      "      banana       1.00      1.00      1.00        22\n",
      "   blackgram       0.62      0.87      0.72        15\n",
      "    chickpea       1.00      1.00      1.00        18\n",
      "     coconut       0.74      0.88      0.80        16\n",
      "      coffee       0.82      1.00      0.90        18\n",
      "      cotton       0.95      0.83      0.88        23\n",
      "      grapes       0.54      0.61      0.57        23\n",
      "        jute       0.65      0.65      0.65        20\n",
      " kidneybeans       0.76      0.67      0.71        24\n",
      "      lentil       0.50      0.43      0.46        21\n",
      "       maize       1.00      0.94      0.97        17\n",
      "       mango       0.87      0.72      0.79        18\n",
      "   mothbeans       0.90      0.86      0.88        22\n",
      "    mungbean       0.81      0.85      0.83        20\n",
      "   muskmelon       0.67      0.56      0.61        18\n",
      "      orange       1.00      1.00      1.00        26\n",
      "      papaya       1.00      1.00      1.00        20\n",
      "  pigeonpeas       0.50      0.50      0.50        20\n",
      " pomegranate       0.95      0.95      0.95        19\n",
      "        rice       0.67      0.67      0.67        21\n",
      "  watermelon       0.60      0.71      0.65        17\n",
      "\n",
      "    accuracy                           0.78       440\n",
      "   macro avg       0.78      0.78      0.77       440\n",
      "weighted avg       0.78      0.78      0.77       440\n",
      "\n"
     ]
    }
   ],
   "source": [
    "from sklearn.tree import DecisionTreeClassifier\n",
    "model = DecisionTreeClassifier()\n",
    "model.fit(X_train, Y_train)\n",
    "Y_pred = model.predict(X_test)\n",
    "print('accuracy = ',accuracy_score(Y_test,Y_pred))\n",
    "print('f1-score = ',f1_score(Y_test,Y_pred,average='weighted'))\n",
    "print('precision = ',precision_score(Y_test,Y_pred,average='weighted'))\n",
    "print('recall = ',recall_score(Y_test,Y_pred,average='weighted'))\n",
    "print('confusion matrix is :\\n',confusion_matrix(Y_test,Y_pred))\n",
    "print('\\nhere is the classification report :\\n',classification_report(Y_test,Y_pred))"
   ]
  },
  {
   "cell_type": "markdown",
   "id": "266fb3cf",
   "metadata": {},
   "source": [
    "# Train a Decision tree model, make predictions and evaluate the model\n",
    "\n",
    "- Accuracy, f1-score, precision, recall, confusion matrix, and classification report."
   ]
  },
  {
   "cell_type": "code",
   "execution_count": 98,
   "id": "420b6933",
   "metadata": {},
   "outputs": [],
   "source": [
    "from sklearn.ensemble import RandomForestClassifier\n",
    "rf = RandomForestClassifier()\n",
    "rf.fit(X_train , Y_train)\n",
    "Y_P_rf = rf.predict(X_test)"
   ]
  },
  {
   "cell_type": "code",
   "execution_count": 100,
   "id": "060bcd3e-c789-4f3e-aaf2-965886f80833",
   "metadata": {},
   "outputs": [
    {
     "name": "stdout",
     "output_type": "stream",
     "text": [
      "accuracy =  0.775\n",
      "f1-score =  0.7736874192480597\n",
      "precision =  0.7779476723436053\n",
      "recall =  0.775\n",
      "confusion matrix is :\n",
      " [[10  0  0  0  0  0  0 12  0  0  0  0  0  0  0  0  0  0  0  0  0  0]\n",
      " [ 0 22  0  0  0  0  0  0  0  0  0  0  0  0  0  0  0  0  0  0  0  0]\n",
      " [ 0  0 13  0  0  0  0  0  0  0  2  0  0  0  0  0  0  0  0  0  0  0]\n",
      " [ 0  0  0 18  0  0  0  0  0  0  0  0  0  0  0  0  0  0  0  0  0  0]\n",
      " [ 0  0  0  0 14  0  0  0  0  0  0  0  2  0  0  0  0  0  0  0  0  0]\n",
      " [ 0  0  0  0  0 18  0  0  0  0  0  0  0  0  0  0  0  0  0  0  0  0]\n",
      " [ 0  0  0  0  0  4 19  0  0  0  0  0  0  0  0  0  0  0  0  0  0  0]\n",
      " [ 9  0  0  0  0  0  0 14  0  0  0  0  0  0  0  0  0  0  0  0  0  0]\n",
      " [ 0  0  0  0  0  0  0  0 13  0  0  0  0  0  0  0  0  0  0  0  7  0]\n",
      " [ 0  0  0  0  0  0  0  0  0 16  2  0  0  0  0  0  0  0  6  0  0  0]\n",
      " [ 0  0  4  0  0  0  0  0  0  2  9  0  0  1  1  0  0  0  4  0  0  0]\n",
      " [ 0  0  0  0  0  0  1  0  0  0  0 16  0  0  0  0  0  0  0  0  0  0]\n",
      " [ 0  0  0  0  4  0  0  0  0  0  0  0 13  0  0  0  0  0  0  1  0  0]\n",
      " [ 0  0  0  0  0  0  0  0  0  1  1  0  0 19  1  0  0  0  0  0  0  0]\n",
      " [ 0  0  2  0  0  0  0  0  0  0  0  0  0  1 17  0  0  0  0  0  0  0]\n",
      " [ 0  0  0  0  0  0  0  0  0  0  0  0  0  0  0 10  0  0  0  0  0  8]\n",
      " [ 0  0  0  0  0  0  0  0  0  0  0  0  0  0  0  0 26  0  0  0  0  0]\n",
      " [ 0  0  0  0  0  0  0  0  0  0  0  0  0  0  0  0  0 20  0  0  0  0]\n",
      " [ 0  0  2  0  0  0  0  0  0  2  4  0  0  0  2  0  0  0 10  0  0  0]\n",
      " [ 0  0  0  0  1  0  0  0  0  0  0  0  0  0  0  0  0  0  0 18  0  0]\n",
      " [ 0  0  0  0  0  0  0  0  7  0  0  0  0  0  0  0  0  0  0  0 14  0]\n",
      " [ 0  0  0  0  0  0  0  0  0  0  0  0  0  0  0  5  0  0  0  0  0 12]]\n",
      "\n",
      "here is the classification report :\n",
      "               precision    recall  f1-score   support\n",
      "\n",
      "       apple       0.53      0.45      0.49        22\n",
      "      banana       1.00      1.00      1.00        22\n",
      "   blackgram       0.62      0.87      0.72        15\n",
      "    chickpea       1.00      1.00      1.00        18\n",
      "     coconut       0.74      0.88      0.80        16\n",
      "      coffee       0.82      1.00      0.90        18\n",
      "      cotton       0.95      0.83      0.88        23\n",
      "      grapes       0.54      0.61      0.57        23\n",
      "        jute       0.65      0.65      0.65        20\n",
      " kidneybeans       0.76      0.67      0.71        24\n",
      "      lentil       0.50      0.43      0.46        21\n",
      "       maize       1.00      0.94      0.97        17\n",
      "       mango       0.87      0.72      0.79        18\n",
      "   mothbeans       0.90      0.86      0.88        22\n",
      "    mungbean       0.81      0.85      0.83        20\n",
      "   muskmelon       0.67      0.56      0.61        18\n",
      "      orange       1.00      1.00      1.00        26\n",
      "      papaya       1.00      1.00      1.00        20\n",
      "  pigeonpeas       0.50      0.50      0.50        20\n",
      " pomegranate       0.95      0.95      0.95        19\n",
      "        rice       0.67      0.67      0.67        21\n",
      "  watermelon       0.60      0.71      0.65        17\n",
      "\n",
      "    accuracy                           0.78       440\n",
      "   macro avg       0.78      0.78      0.77       440\n",
      "weighted avg       0.78      0.78      0.77       440\n",
      "\n"
     ]
    }
   ],
   "source": [
    "print('accuracy = ',accuracy_score(Y_test,Y_pred))\n",
    "print('f1-score = ',f1_score(Y_test,Y_pred,average='weighted'))\n",
    "print('precision = ',precision_score(Y_test,Y_pred,average='weighted'))\n",
    "print('recall = ',recall_score(Y_test,Y_pred,average='weighted'))\n",
    "print('confusion matrix is :\\n',confusion_matrix(Y_test,Y_pred))\n",
    "print('\\nhere is the classification report :\\n',classification_report(Y_test,Y_pred))"
   ]
  },
  {
   "cell_type": "markdown",
   "id": "7e8d13f5",
   "metadata": {},
   "source": [
    "# Train a default KNN model, make predictions and evaluate the model\n",
    "\n",
    "- Accuracy, f1-score, precision, recall, confusion matrix, and classification report."
   ]
  },
  {
   "cell_type": "code",
   "execution_count": 102,
   "id": "2c314d31",
   "metadata": {},
   "outputs": [
    {
     "name": "stdout",
     "output_type": "stream",
     "text": [
      "accuracy =  0.775\n",
      "f1-score =  0.7736874192480597\n",
      "precision =  0.7779476723436053\n",
      "recall =  0.775\n",
      "confusion matrix is :\n",
      " [[10  0  0  0  0  0  0 12  0  0  0  0  0  0  0  0  0  0  0  0  0  0]\n",
      " [ 0 22  0  0  0  0  0  0  0  0  0  0  0  0  0  0  0  0  0  0  0  0]\n",
      " [ 0  0 13  0  0  0  0  0  0  0  2  0  0  0  0  0  0  0  0  0  0  0]\n",
      " [ 0  0  0 18  0  0  0  0  0  0  0  0  0  0  0  0  0  0  0  0  0  0]\n",
      " [ 0  0  0  0 14  0  0  0  0  0  0  0  2  0  0  0  0  0  0  0  0  0]\n",
      " [ 0  0  0  0  0 18  0  0  0  0  0  0  0  0  0  0  0  0  0  0  0  0]\n",
      " [ 0  0  0  0  0  4 19  0  0  0  0  0  0  0  0  0  0  0  0  0  0  0]\n",
      " [ 9  0  0  0  0  0  0 14  0  0  0  0  0  0  0  0  0  0  0  0  0  0]\n",
      " [ 0  0  0  0  0  0  0  0 13  0  0  0  0  0  0  0  0  0  0  0  7  0]\n",
      " [ 0  0  0  0  0  0  0  0  0 16  2  0  0  0  0  0  0  0  6  0  0  0]\n",
      " [ 0  0  4  0  0  0  0  0  0  2  9  0  0  1  1  0  0  0  4  0  0  0]\n",
      " [ 0  0  0  0  0  0  1  0  0  0  0 16  0  0  0  0  0  0  0  0  0  0]\n",
      " [ 0  0  0  0  4  0  0  0  0  0  0  0 13  0  0  0  0  0  0  1  0  0]\n",
      " [ 0  0  0  0  0  0  0  0  0  1  1  0  0 19  1  0  0  0  0  0  0  0]\n",
      " [ 0  0  2  0  0  0  0  0  0  0  0  0  0  1 17  0  0  0  0  0  0  0]\n",
      " [ 0  0  0  0  0  0  0  0  0  0  0  0  0  0  0 10  0  0  0  0  0  8]\n",
      " [ 0  0  0  0  0  0  0  0  0  0  0  0  0  0  0  0 26  0  0  0  0  0]\n",
      " [ 0  0  0  0  0  0  0  0  0  0  0  0  0  0  0  0  0 20  0  0  0  0]\n",
      " [ 0  0  2  0  0  0  0  0  0  2  4  0  0  0  2  0  0  0 10  0  0  0]\n",
      " [ 0  0  0  0  1  0  0  0  0  0  0  0  0  0  0  0  0  0  0 18  0  0]\n",
      " [ 0  0  0  0  0  0  0  0  7  0  0  0  0  0  0  0  0  0  0  0 14  0]\n",
      " [ 0  0  0  0  0  0  0  0  0  0  0  0  0  0  0  5  0  0  0  0  0 12]]\n",
      "\n",
      "here is the classification report :\n",
      "               precision    recall  f1-score   support\n",
      "\n",
      "       apple       0.53      0.45      0.49        22\n",
      "      banana       1.00      1.00      1.00        22\n",
      "   blackgram       0.62      0.87      0.72        15\n",
      "    chickpea       1.00      1.00      1.00        18\n",
      "     coconut       0.74      0.88      0.80        16\n",
      "      coffee       0.82      1.00      0.90        18\n",
      "      cotton       0.95      0.83      0.88        23\n",
      "      grapes       0.54      0.61      0.57        23\n",
      "        jute       0.65      0.65      0.65        20\n",
      " kidneybeans       0.76      0.67      0.71        24\n",
      "      lentil       0.50      0.43      0.46        21\n",
      "       maize       1.00      0.94      0.97        17\n",
      "       mango       0.87      0.72      0.79        18\n",
      "   mothbeans       0.90      0.86      0.88        22\n",
      "    mungbean       0.81      0.85      0.83        20\n",
      "   muskmelon       0.67      0.56      0.61        18\n",
      "      orange       1.00      1.00      1.00        26\n",
      "      papaya       1.00      1.00      1.00        20\n",
      "  pigeonpeas       0.50      0.50      0.50        20\n",
      " pomegranate       0.95      0.95      0.95        19\n",
      "        rice       0.67      0.67      0.67        21\n",
      "  watermelon       0.60      0.71      0.65        17\n",
      "\n",
      "    accuracy                           0.78       440\n",
      "   macro avg       0.78      0.78      0.77       440\n",
      "weighted avg       0.78      0.78      0.77       440\n",
      "\n"
     ]
    }
   ],
   "source": [
    "from sklearn.neighbors import KNeighborsClassifier\n",
    "model = KNeighborsClassifier()\n",
    "model.fit(X_train, Y_train)\n",
    "y_pred = model.predict(X_test)\n",
    "print('accuracy = ',accuracy_score(Y_test,Y_pred))\n",
    "print('f1-score = ',f1_score(Y_test,Y_pred,average='weighted'))\n",
    "print('precision = ',precision_score(Y_test,Y_pred,average='weighted'))\n",
    "print('recall = ',recall_score(Y_test,Y_pred,average='weighted'))\n",
    "print('confusion matrix is :\\n',confusion_matrix(Y_test,Y_pred))\n",
    "print('\\nhere is the classification report :\\n',classification_report(Y_test,Y_pred))"
   ]
  },
  {
   "cell_type": "markdown",
   "id": "948b43b0",
   "metadata": {},
   "source": [
    "# Try different values of K in the KNN model and select the best one.\n",
    "\n",
    "- Based on the accuracy."
   ]
  },
  {
   "cell_type": "code",
   "execution_count": 106,
   "id": "d854ba49",
   "metadata": {},
   "outputs": [
    {
     "name": "stdout",
     "output_type": "stream",
     "text": [
      "accuracy = ,67.5%\n",
      "best K =  11\n"
     ]
    }
   ],
   "source": [
    "n = 0\n",
    "for i in range(1,40):\n",
    "    model = KNeighborsClassifier(n_neighbors=i)\n",
    "    model.fit(X_train, Y_train)\n",
    "    Y_pred = model.predict(X_test)\n",
    "    if accuracy_score(Y_test,Y_pred) > n:\n",
    "        n =accuracy_score(Y_test,Y_pred)\n",
    "        k = i\n",
    "        \n",
    "print(f'accuracy = ,{n*100}%')\n",
    "print('best K = ',k)"
   ]
  },
  {
   "cell_type": "code",
   "execution_count": null,
   "id": "72903fb1-c649-4588-a441-91842817f3b0",
   "metadata": {},
   "outputs": [],
   "source": []
  }
 ],
 "metadata": {
  "colab": {
   "name": "Welcome to DataCamp Workspaces.ipynb",
   "provenance": []
  },
  "kernelspec": {
   "display_name": "Python 3 (ipykernel)",
   "language": "python",
   "name": "python3"
  },
  "language_info": {
   "codemirror_mode": {
    "name": "ipython",
    "version": 3
   },
   "file_extension": ".py",
   "mimetype": "text/x-python",
   "name": "python",
   "nbconvert_exporter": "python",
   "pygments_lexer": "ipython3",
   "version": "3.9.13"
  }
 },
 "nbformat": 4,
 "nbformat_minor": 5
}
