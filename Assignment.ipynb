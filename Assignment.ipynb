{
 "cells": [
  {
   "cell_type": "markdown",
   "id": "d3d001b0-2e2f-4b58-8442-99520bad831f",
   "metadata": {},
   "source": [
    "# Sowing Success: How Machine Learning Helps Farmers Select the Best Crops\n",
    "\n",
    "Measuring essential soil metrics such as nitrogen, phosphorous, potassium levels, and pH value is an important aspect of assessing soil condition. However, it can be an expensive and time-consuming process, which can cause farmers to prioritize which metrics to measure based on their budget constraints.\n",
    "\n",
    "Farmers have various options when it comes to deciding which crop to plant each season. Their primary objective is to maximize the yield of their crops, taking into account different factors. One crucial factor that affects crop growth is the condition of the soil in the field, which can be assessed by measuring basic elements such as nitrogen and potassium levels. Each crop has an ideal soil condition that ensures optimal growth and maximum yield.\n",
    "\n",
    "A farmer reached out to you as a machine learning expert for assistance in selecting the best crop for his field. They've provided you with a dataset called `soil_measures.csv`, which contains:\n",
    "\n",
    "- `\"N\"`: Nitrogen content ratio in the soil\n",
    "- `\"P\"`: Phosphorous content ratio in the soil\n",
    "- `\"K\"`: Potassium content ratio in the soil\n",
    "- `\"pH\"` value of the soil\n",
    "- `\"crop\"`: categorical values that contain various crops (target variable).\n",
    "\n",
    "Each row in this dataset represents various measures of the soil in a particular field. Based on these measurements, the crop specified in the `\"crop\"` column is the optimal choice for that field.  \n",
    "\n",
    "In this project, you will apply machine learning to build a multi-class classification model to predict the type of `\"crop\"`, while using techniques to avoid multicollinearity, which is a concept where two or more features are highly correlated."
   ]
  },
  {
   "cell_type": "markdown",
   "id": "aed30183",
   "metadata": {},
   "source": [
    "# Import Libraries"
   ]
  },
  {
   "cell_type": "code",
   "execution_count": 19,
   "id": "0cad523c",
   "metadata": {},
   "outputs": [],
   "source": [
    "import warnings\n",
    "warnings.filterwarnings(\"ignore\")\n",
    "import pandas as pd\n",
    "import numpy as np\n",
    "import matplotlib.pyplot as plt\n",
    "import seaborn as sns\n",
    "%matplotlib inline\n"
   ]
  },
  {
   "cell_type": "markdown",
   "id": "be1af3d5",
   "metadata": {},
   "source": [
    "# Load the Dataset and make EDA\n",
    "\n",
    "- Print the head, tail, describe, info, shape."
   ]
  },
  {
   "cell_type": "code",
   "execution_count": 20,
   "id": "dc8e8172",
   "metadata": {},
   "outputs": [
    {
     "data": {
      "text/html": [
       "<div>\n",
       "<style scoped>\n",
       "    .dataframe tbody tr th:only-of-type {\n",
       "        vertical-align: middle;\n",
       "    }\n",
       "\n",
       "    .dataframe tbody tr th {\n",
       "        vertical-align: top;\n",
       "    }\n",
       "\n",
       "    .dataframe thead th {\n",
       "        text-align: right;\n",
       "    }\n",
       "</style>\n",
       "<table border=\"1\" class=\"dataframe\">\n",
       "  <thead>\n",
       "    <tr style=\"text-align: right;\">\n",
       "      <th></th>\n",
       "      <th>N</th>\n",
       "      <th>P</th>\n",
       "      <th>K</th>\n",
       "      <th>ph</th>\n",
       "      <th>crop</th>\n",
       "    </tr>\n",
       "  </thead>\n",
       "  <tbody>\n",
       "    <tr>\n",
       "      <th>0</th>\n",
       "      <td>90</td>\n",
       "      <td>42</td>\n",
       "      <td>43</td>\n",
       "      <td>6.502985</td>\n",
       "      <td>rice</td>\n",
       "    </tr>\n",
       "    <tr>\n",
       "      <th>1</th>\n",
       "      <td>85</td>\n",
       "      <td>58</td>\n",
       "      <td>41</td>\n",
       "      <td>7.038096</td>\n",
       "      <td>rice</td>\n",
       "    </tr>\n",
       "    <tr>\n",
       "      <th>2</th>\n",
       "      <td>60</td>\n",
       "      <td>55</td>\n",
       "      <td>44</td>\n",
       "      <td>7.840207</td>\n",
       "      <td>rice</td>\n",
       "    </tr>\n",
       "    <tr>\n",
       "      <th>3</th>\n",
       "      <td>74</td>\n",
       "      <td>35</td>\n",
       "      <td>40</td>\n",
       "      <td>6.980401</td>\n",
       "      <td>rice</td>\n",
       "    </tr>\n",
       "    <tr>\n",
       "      <th>4</th>\n",
       "      <td>78</td>\n",
       "      <td>42</td>\n",
       "      <td>42</td>\n",
       "      <td>7.628473</td>\n",
       "      <td>rice</td>\n",
       "    </tr>\n",
       "  </tbody>\n",
       "</table>\n",
       "</div>"
      ],
      "text/plain": [
       "    N   P   K        ph  crop\n",
       "0  90  42  43  6.502985  rice\n",
       "1  85  58  41  7.038096  rice\n",
       "2  60  55  44  7.840207  rice\n",
       "3  74  35  40  6.980401  rice\n",
       "4  78  42  42  7.628473  rice"
      ]
     },
     "execution_count": 20,
     "metadata": {},
     "output_type": "execute_result"
    }
   ],
   "source": [
    "df = pd.read_csv('soil_measures.csv')\n",
    "df.head()\n"
   ]
  },
  {
   "cell_type": "code",
   "execution_count": 21,
   "metadata": {},
   "outputs": [
    {
     "data": {
      "text/html": [
       "<div>\n",
       "<style scoped>\n",
       "    .dataframe tbody tr th:only-of-type {\n",
       "        vertical-align: middle;\n",
       "    }\n",
       "\n",
       "    .dataframe tbody tr th {\n",
       "        vertical-align: top;\n",
       "    }\n",
       "\n",
       "    .dataframe thead th {\n",
       "        text-align: right;\n",
       "    }\n",
       "</style>\n",
       "<table border=\"1\" class=\"dataframe\">\n",
       "  <thead>\n",
       "    <tr style=\"text-align: right;\">\n",
       "      <th></th>\n",
       "      <th>N</th>\n",
       "      <th>P</th>\n",
       "      <th>K</th>\n",
       "      <th>ph</th>\n",
       "      <th>crop</th>\n",
       "    </tr>\n",
       "  </thead>\n",
       "  <tbody>\n",
       "    <tr>\n",
       "      <th>2195</th>\n",
       "      <td>107</td>\n",
       "      <td>34</td>\n",
       "      <td>32</td>\n",
       "      <td>6.780064</td>\n",
       "      <td>coffee</td>\n",
       "    </tr>\n",
       "    <tr>\n",
       "      <th>2196</th>\n",
       "      <td>99</td>\n",
       "      <td>15</td>\n",
       "      <td>27</td>\n",
       "      <td>6.086922</td>\n",
       "      <td>coffee</td>\n",
       "    </tr>\n",
       "    <tr>\n",
       "      <th>2197</th>\n",
       "      <td>118</td>\n",
       "      <td>33</td>\n",
       "      <td>30</td>\n",
       "      <td>6.362608</td>\n",
       "      <td>coffee</td>\n",
       "    </tr>\n",
       "    <tr>\n",
       "      <th>2198</th>\n",
       "      <td>117</td>\n",
       "      <td>32</td>\n",
       "      <td>34</td>\n",
       "      <td>6.758793</td>\n",
       "      <td>coffee</td>\n",
       "    </tr>\n",
       "    <tr>\n",
       "      <th>2199</th>\n",
       "      <td>104</td>\n",
       "      <td>18</td>\n",
       "      <td>30</td>\n",
       "      <td>6.779833</td>\n",
       "      <td>coffee</td>\n",
       "    </tr>\n",
       "  </tbody>\n",
       "</table>\n",
       "</div>"
      ],
      "text/plain": [
       "        N   P   K        ph    crop\n",
       "2195  107  34  32  6.780064  coffee\n",
       "2196   99  15  27  6.086922  coffee\n",
       "2197  118  33  30  6.362608  coffee\n",
       "2198  117  32  34  6.758793  coffee\n",
       "2199  104  18  30  6.779833  coffee"
      ]
     },
     "execution_count": 21,
     "metadata": {},
     "output_type": "execute_result"
    }
   ],
   "source": [
    "df.tail()\n"
   ]
  },
  {
   "cell_type": "code",
   "execution_count": 22,
   "metadata": {},
   "outputs": [
    {
     "data": {
      "text/html": [
       "<div>\n",
       "<style scoped>\n",
       "    .dataframe tbody tr th:only-of-type {\n",
       "        vertical-align: middle;\n",
       "    }\n",
       "\n",
       "    .dataframe tbody tr th {\n",
       "        vertical-align: top;\n",
       "    }\n",
       "\n",
       "    .dataframe thead th {\n",
       "        text-align: right;\n",
       "    }\n",
       "</style>\n",
       "<table border=\"1\" class=\"dataframe\">\n",
       "  <thead>\n",
       "    <tr style=\"text-align: right;\">\n",
       "      <th></th>\n",
       "      <th>N</th>\n",
       "      <th>P</th>\n",
       "      <th>K</th>\n",
       "      <th>ph</th>\n",
       "    </tr>\n",
       "  </thead>\n",
       "  <tbody>\n",
       "    <tr>\n",
       "      <th>count</th>\n",
       "      <td>2200.000000</td>\n",
       "      <td>2200.000000</td>\n",
       "      <td>2200.000000</td>\n",
       "      <td>2200.000000</td>\n",
       "    </tr>\n",
       "    <tr>\n",
       "      <th>mean</th>\n",
       "      <td>50.551818</td>\n",
       "      <td>53.362727</td>\n",
       "      <td>48.149091</td>\n",
       "      <td>6.469480</td>\n",
       "    </tr>\n",
       "    <tr>\n",
       "      <th>std</th>\n",
       "      <td>36.917334</td>\n",
       "      <td>32.985883</td>\n",
       "      <td>50.647931</td>\n",
       "      <td>0.773938</td>\n",
       "    </tr>\n",
       "    <tr>\n",
       "      <th>min</th>\n",
       "      <td>0.000000</td>\n",
       "      <td>5.000000</td>\n",
       "      <td>5.000000</td>\n",
       "      <td>3.504752</td>\n",
       "    </tr>\n",
       "    <tr>\n",
       "      <th>25%</th>\n",
       "      <td>21.000000</td>\n",
       "      <td>28.000000</td>\n",
       "      <td>20.000000</td>\n",
       "      <td>5.971693</td>\n",
       "    </tr>\n",
       "    <tr>\n",
       "      <th>50%</th>\n",
       "      <td>37.000000</td>\n",
       "      <td>51.000000</td>\n",
       "      <td>32.000000</td>\n",
       "      <td>6.425045</td>\n",
       "    </tr>\n",
       "    <tr>\n",
       "      <th>75%</th>\n",
       "      <td>84.250000</td>\n",
       "      <td>68.000000</td>\n",
       "      <td>49.000000</td>\n",
       "      <td>6.923643</td>\n",
       "    </tr>\n",
       "    <tr>\n",
       "      <th>max</th>\n",
       "      <td>140.000000</td>\n",
       "      <td>145.000000</td>\n",
       "      <td>205.000000</td>\n",
       "      <td>9.935091</td>\n",
       "    </tr>\n",
       "  </tbody>\n",
       "</table>\n",
       "</div>"
      ],
      "text/plain": [
       "                 N            P            K           ph\n",
       "count  2200.000000  2200.000000  2200.000000  2200.000000\n",
       "mean     50.551818    53.362727    48.149091     6.469480\n",
       "std      36.917334    32.985883    50.647931     0.773938\n",
       "min       0.000000     5.000000     5.000000     3.504752\n",
       "25%      21.000000    28.000000    20.000000     5.971693\n",
       "50%      37.000000    51.000000    32.000000     6.425045\n",
       "75%      84.250000    68.000000    49.000000     6.923643\n",
       "max     140.000000   145.000000   205.000000     9.935091"
      ]
     },
     "execution_count": 22,
     "metadata": {},
     "output_type": "execute_result"
    }
   ],
   "source": [
    "df.describe()\n"
   ]
  },
  {
   "cell_type": "code",
   "execution_count": 23,
   "metadata": {},
   "outputs": [
    {
     "name": "stdout",
     "output_type": "stream",
     "text": [
      "<class 'pandas.core.frame.DataFrame'>\n",
      "RangeIndex: 2200 entries, 0 to 2199\n",
      "Data columns (total 5 columns):\n",
      " #   Column  Non-Null Count  Dtype  \n",
      "---  ------  --------------  -----  \n",
      " 0   N       2200 non-null   int64  \n",
      " 1   P       2200 non-null   int64  \n",
      " 2   K       2200 non-null   int64  \n",
      " 3   ph      2200 non-null   float64\n",
      " 4   crop    2200 non-null   object \n",
      "dtypes: float64(1), int64(3), object(1)\n",
      "memory usage: 86.1+ KB\n"
     ]
    }
   ],
   "source": [
    "df.info()\n"
   ]
  },
  {
   "cell_type": "code",
   "execution_count": 24,
   "metadata": {},
   "outputs": [
    {
     "data": {
      "text/plain": [
       "(2200, 5)"
      ]
     },
     "execution_count": 24,
     "metadata": {},
     "output_type": "execute_result"
    }
   ],
   "source": [
    "df.shape"
   ]
  },
  {
   "cell_type": "markdown",
   "id": "93e157db",
   "metadata": {},
   "source": [
    "# Check the number of classes in the target label"
   ]
  },
  {
   "cell_type": "code",
   "execution_count": 25,
   "id": "caf46fb7",
   "metadata": {},
   "outputs": [
    {
     "data": {
      "text/plain": [
       "22"
      ]
     },
     "execution_count": 25,
     "metadata": {},
     "output_type": "execute_result"
    }
   ],
   "source": [
    "df['crop'].value_counts().count()"
   ]
  },
  {
   "cell_type": "markdown",
   "id": "dcf3e9c3",
   "metadata": {},
   "source": [
    "# Check is there missing data"
   ]
  },
  {
   "cell_type": "code",
   "execution_count": 26,
   "id": "065ef879",
   "metadata": {},
   "outputs": [
    {
     "data": {
      "text/plain": [
       "0"
      ]
     },
     "execution_count": 26,
     "metadata": {},
     "output_type": "execute_result"
    }
   ],
   "source": [
    "df.isna().sum().sum()"
   ]
  },
  {
   "cell_type": "markdown",
   "id": "2ae66e56",
   "metadata": {},
   "source": [
    "# Train test split\n",
    "\n",
    "- Test size is 20%"
   ]
  },
  {
   "cell_type": "code",
   "execution_count": 27,
   "metadata": {},
   "outputs": [],
   "source": [
    "# Encoding\n",
    "from sklearn import preprocessing \n",
    "label_encoder = preprocessing.LabelEncoder() \n",
    "df['crop']= label_encoder.fit_transform(df['crop'])"
   ]
  },
  {
   "cell_type": "code",
   "execution_count": 28,
   "id": "37ba5da7",
   "metadata": {},
   "outputs": [],
   "source": [
    "from sklearn.model_selection import train_test_split\n",
    "X = df.drop('crop',axis=1)\n",
    "Y = df['crop']\n",
    "X_train, X_test, Y_train, Y_test = train_test_split(X, Y, test_size=0.2, random_state=42)\n"
   ]
  },
  {
   "cell_type": "markdown",
   "id": "a83ce43d",
   "metadata": {},
   "source": [
    "# Train a multiclass logistic regression model, make predictions and evaluate the model\n",
    "\n",
    "- Accuracy, f1-score, precision, recall, confusion matrix, and classification report."
   ]
  },
  {
   "cell_type": "code",
   "execution_count": 29,
   "id": "0b8dde2e",
   "metadata": {},
   "outputs": [
    {
     "name": "stdout",
     "output_type": "stream",
     "text": [
      "0.5681818181818182\n",
      "0.5681818181818182\n",
      "0.5681818181818182\n",
      "0.5681818181818182\n",
      "[[ 4  0  0  0  0  0  0 19  0  0  0  0  0  0  0  0  0  0  0  0  0  0]\n",
      " [ 0 21  0  0  0  0  0  0  0  0  0  0  0  0  0  0  0  0  0  0  0  0]\n",
      " [ 0  0 10  0  0  0  0  0  0  1  7  0  0  1  1  0  0  0  0  0  0  0]\n",
      " [ 0  0  0 26  0  0  0  0  0  0  0  0  0  0  0  0  0  0  0  0  0  0]\n",
      " [ 0  0  0  0  5  0  0  0  0  0  0  0 10  0  0  0  0  0  0 11  0  1]\n",
      " [ 0  0  0  0  0 16  0  0  1  0  0  0  0  0  0  0  0  0  0  0  0  0]\n",
      " [ 0  0  0  0  0  0 17  0  0  0  0  0  0  0  0  0  0  0  0  0  0  0]\n",
      " [ 3  0  0  0  0  0  0 11  0  0  0  0  0  0  0  0  0  0  0  0  0  0]\n",
      " [ 0  2  0  0  0  1  0  0  8  0  0  0  0  0  0  0  0  2  0  0 10  0]\n",
      " [ 0  0  3  0  0  0  0  0  0  5  4  0  0  0  1  0  0  0  7  0  0  0]\n",
      " [ 0  0  1  0  0  0  0  0  0  1  6  0  0  1  1  0  0  0  1  0  0  0]\n",
      " [ 0  0  0  0  0  0  5  0  1  0  0 15  0  0  0  0  0  0  0  0  0  0]\n",
      " [ 0  0  0  0  3  0  0  0  1  0  0  0 12  1  0  0  0  1  0  1  0  0]\n",
      " [ 0  1  3  0  0  0  0  0  0  0  1  0  1  2 12  0  1  0  3  0  0  0]\n",
      " [ 0  0  5  0  0  0  0  0  0  0  1  0  1  2 10  0  0  0  0  0  0  0]\n",
      " [ 0  0  0  0  0  0  0  0  0  0  0  0  0  0  0 13  0  0  0  0  0  4]\n",
      " [ 0  0  0  0  0  0  0  0  0  0  0  0  0  0  0  0 14  0  0  0  0  0]\n",
      " [ 0  0  0  0  0  0  0  0  0  0  0  0  0  0  0  0  0 23  0  0  0  0]\n",
      " [ 0  0  4  0  0  0  0  0  0  6  5  0  0  0  2  0  0  0  6  0  0  0]\n",
      " [ 0  0  0  0  6  0  0  0  0  0  0  0  4  0  0  0  0  0  0 13  0  0]\n",
      " [ 0  2  0  0  0  0  0  0  8  0  0  1  0  0  0  0  0  1  0  0  7  0]\n",
      " [ 0  0  0  0  0  0  0  0  0  0  0  0  0  0  0 13  0  0  0  0  0  6]]\n",
      "              precision    recall  f1-score   support\n",
      "\n",
      "           0       0.57      0.17      0.27        23\n",
      "           1       0.81      1.00      0.89        21\n",
      "           2       0.38      0.50      0.43        20\n",
      "           3       1.00      1.00      1.00        26\n",
      "           4       0.36      0.19      0.24        27\n",
      "           5       0.94      0.94      0.94        17\n",
      "           6       0.77      1.00      0.87        17\n",
      "           7       0.37      0.79      0.50        14\n",
      "           8       0.42      0.35      0.38        23\n",
      "           9       0.38      0.25      0.30        20\n",
      "          10       0.25      0.55      0.34        11\n",
      "          11       0.94      0.71      0.81        21\n",
      "          12       0.43      0.63      0.51        19\n",
      "          13       0.29      0.08      0.13        24\n",
      "          14       0.37      0.53      0.43        19\n",
      "          15       0.50      0.76      0.60        17\n",
      "          16       0.93      1.00      0.97        14\n",
      "          17       0.85      1.00      0.92        23\n",
      "          18       0.35      0.26      0.30        23\n",
      "          19       0.52      0.57      0.54        23\n",
      "          20       0.41      0.37      0.39        19\n",
      "          21       0.55      0.32      0.40        19\n",
      "\n",
      "    accuracy                           0.57       440\n",
      "   macro avg       0.56      0.59      0.55       440\n",
      "weighted avg       0.57      0.57      0.55       440\n",
      "\n"
     ]
    }
   ],
   "source": [
    "from sklearn.linear_model import LogisticRegression\n",
    "from sklearn.metrics import accuracy_score, classification_report, confusion_matrix, f1_score, precision_score, recall_score\n",
    "\n",
    "log_modle = LogisticRegression()\n",
    "log_modle.fit(X_train,Y_train)\n",
    "Y_pred = log_modle.predict(X_test)\n",
    "\n",
    "print(accuracy_score(Y_test,Y_pred))\n",
    "\n",
    "print(f1_score(Y_test,Y_pred,average='micro'))\n",
    "\n",
    "print(precision_score(Y_test,Y_pred,average=\"micro\"))\n",
    "\n",
    "print(recall_score(Y_test,Y_pred, average=\"micro\"))\n",
    "\n",
    "print(confusion_matrix(Y_test,Y_pred))\n",
    "\n",
    "print(classification_report(Y_test,Y_pred))\n",
    "\n"
   ]
  },
  {
   "cell_type": "markdown",
   "id": "e5f14035",
   "metadata": {},
   "source": [
    "# Train a SVM model, make predictions and evaluate the model\n",
    "\n",
    "- Accuracy, f1-score, precision, recall, confusion matrix, and classification report."
   ]
  },
  {
   "cell_type": "code",
   "execution_count": 30,
   "id": "18fccbee",
   "metadata": {},
   "outputs": [
    {
     "name": "stdout",
     "output_type": "stream",
     "text": [
      "0.6045454545454545\n",
      "0.6045454545454545\n",
      "0.6045454545454545\n",
      "0.6045454545454545\n",
      "[[ 1  0  0  0  0  0  0 22  0  0  0  0  0  0  0  0  0  0  0  0  0  0]\n",
      " [ 0 21  0  0  0  0  0  0  0  0  0  0  0  0  0  0  0  0  0  0  0  0]\n",
      " [ 0  0 11  0  0  0  0  0  0  0  9  0  0  0  0  0  0  0  0  0  0  0]\n",
      " [ 0  0  0 26  0  0  0  0  0  0  0  0  0  0  0  0  0  0  0  0  0  0]\n",
      " [ 0  0  0  0 18  0  0  0  0  0  0  0  8  0  0  0  0  0  0  1  0  0]\n",
      " [ 0  0  0  0  0 15  1  0  0  0  0  0  0  0  0  0  0  0  0  0  1  0]\n",
      " [ 0  0  0  0  0  0 17  0  0  0  0  0  0  0  0  0  0  0  0  0  0  0]\n",
      " [ 0  0  0  0  0  0  0 14  0  0  0  0  0  0  0  0  0  0  0  0  0  0]\n",
      " [ 0  0  0  0  0  1  0  0  0  0  0  0  0  0  0  0  0  0  0  0 22  0]\n",
      " [ 0  0  3  0  0  0  0  0  0  0 16  0  0  0  1  0  0  0  0  0  0  0]\n",
      " [ 0  0  1  0  0  0  0  0  0  1  9  0  0  0  0  0  0  0  0  0  0  0]\n",
      " [ 0  0  1  0  0  0  4  0  0  0  0 16  0  0  0  0  0  0  0  0  0  0]\n",
      " [ 0  0  0  0  5  0  0  0  0  0  0  0 13  0  1  0  0  0  0  0  0  0]\n",
      " [ 0  0  1  0  0  0  0  0  0  0  3  0  0  0 20  0  0  0  0  0  0  0]\n",
      " [ 0  0  2  0  0  0  0  0  0  0  2  0  1  0 14  0  0  0  0  0  0  0]\n",
      " [ 0  0  0  0  0  0  0  0  0  0  0  0  0  0  0 17  0  0  0  0  0  0]\n",
      " [ 0  0  0  0  0  0  0  0  0  0  0  0  0  0  0  0 14  0  0  0  0  0]\n",
      " [ 0  0  0  0  0  0  0  0  0  0  0  0  0  0  0  0  0 22  0  0  1  0]\n",
      " [ 0  0  5  0  0  0  0  0  0  1 15  0  0  0  2  0  0  0  0  0  0  0]\n",
      " [ 0  0  0  0  2  0  0  0  0  0  0  0  2  0  0  0  0  0  0 19  0  0]\n",
      " [ 0  0  0  0  0  0  0  0  0  0  0  0  0  0  0  0  0  0  0  0 19  0]\n",
      " [ 0  0  0  0  0  0  0  0  0  0  0  0  0  0  0 19  0  0  0  0  0  0]]\n",
      "              precision    recall  f1-score   support\n",
      "\n",
      "           0       1.00      0.04      0.08        23\n",
      "           1       1.00      1.00      1.00        21\n",
      "           2       0.46      0.55      0.50        20\n",
      "           3       1.00      1.00      1.00        26\n",
      "           4       0.72      0.67      0.69        27\n",
      "           5       0.94      0.88      0.91        17\n",
      "           6       0.77      1.00      0.87        17\n",
      "           7       0.39      1.00      0.56        14\n",
      "           8       0.00      0.00      0.00        23\n",
      "           9       0.00      0.00      0.00        20\n",
      "          10       0.17      0.82      0.28        11\n",
      "          11       1.00      0.76      0.86        21\n",
      "          12       0.54      0.68      0.60        19\n",
      "          13       0.00      0.00      0.00        24\n",
      "          14       0.37      0.74      0.49        19\n",
      "          15       0.47      1.00      0.64        17\n",
      "          16       1.00      1.00      1.00        14\n",
      "          17       1.00      0.96      0.98        23\n",
      "          18       0.00      0.00      0.00        23\n",
      "          19       0.95      0.83      0.88        23\n",
      "          20       0.44      1.00      0.61        19\n",
      "          21       0.00      0.00      0.00        19\n",
      "\n",
      "    accuracy                           0.60       440\n",
      "   macro avg       0.56      0.63      0.54       440\n",
      "weighted avg       0.56      0.60      0.54       440\n",
      "\n"
     ]
    }
   ],
   "source": [
    "from sklearn.svm import SVC\n",
    "svm = SVC(kernel = 'rbf',random_state=42) \n",
    "svm.fit(X_train, Y_train)\n",
    "\n",
    "Y_pred = svm.predict(X_test)\n",
    "\n",
    "print(accuracy_score(Y_test,Y_pred))\n",
    "\n",
    "print(f1_score(Y_test,Y_pred,average='micro'))\n",
    "\n",
    "print(precision_score(Y_test,Y_pred,average=\"micro\"))\n",
    "\n",
    "print(recall_score(Y_test,Y_pred, average=\"micro\"))\n",
    "\n",
    "print(confusion_matrix(Y_test,Y_pred))\n",
    "\n",
    "print(classification_report(Y_test,Y_pred))\n",
    "\n"
   ]
  },
  {
   "cell_type": "markdown",
   "id": "9d7b1f23",
   "metadata": {},
   "source": [
    "# Train a Decision tree model, make predictions and evaluate the model\n",
    "\n",
    "- Accuracy, f1-score, precision, recall, confusion matrix, and classification report."
   ]
  },
  {
   "cell_type": "code",
   "execution_count": 31,
   "id": "44482479",
   "metadata": {},
   "outputs": [
    {
     "name": "stdout",
     "output_type": "stream",
     "text": [
      "0.7636363636363637\n",
      "0.7636363636363637\n",
      "0.7636363636363637\n",
      "0.7636363636363637\n",
      "[[13  0  0  0  0  0  0 10  0  0  0  0  0  0  0  0  0  0  0  0  0  0]\n",
      " [ 0 21  0  0  0  0  0  0  0  0  0  0  0  0  0  0  0  0  0  0  0  0]\n",
      " [ 0  0 17  0  0  0  0  0  0  0  2  0  0  0  0  0  0  0  1  0  0  0]\n",
      " [ 0  0  0 26  0  0  0  0  0  0  0  0  0  0  0  0  0  0  0  0  0  0]\n",
      " [ 0  0  0  0 24  0  0  0  0  0  0  0  2  0  0  0  0  0  0  1  0  0]\n",
      " [ 0  0  0  0  0 16  1  0  0  0  0  0  0  0  0  0  0  0  0  0  0  0]\n",
      " [ 0  0  0  0  0  0 17  0  0  0  0  0  0  0  0  0  0  0  0  0  0  0]\n",
      " [ 8  0  0  0  0  0  0  6  0  0  0  0  0  0  0  0  0  0  0  0  0  0]\n",
      " [ 0  0  0  0  0  2  0  0 11  0  0  0  0  0  0  0  0  0  0  0 10  0]\n",
      " [ 0  0  0  0  0  0  0  0  0 14  1  0  0  1  0  0  0  0  4  0  0  0]\n",
      " [ 0  0  1  0  0  0  0  0  0  1  5  0  0  0  0  0  0  0  4  0  0  0]\n",
      " [ 0  0  0  0  0  0  1  0  0  0  0 20  0  0  0  0  0  0  0  0  0  0]\n",
      " [ 0  0  0  0  3  0  0  0  0  0  0  0 15  0  0  0  0  0  0  1  0  0]\n",
      " [ 0  0  1  0  0  0  0  0  0  0  3  0  0 18  1  0  0  0  1  0  0  0]\n",
      " [ 0  0  0  0  0  0  0  0  0  0  2  0  2  1 14  0  0  0  0  0  0  0]\n",
      " [ 0  0  0  0  0  0  0  0  0  0  0  0  0  0  0  8  0  0  0  0  0  9]\n",
      " [ 0  0  0  0  0  0  0  0  0  0  0  0  0  0  0  0 14  0  0  0  0  0]\n",
      " [ 0  0  0  0  0  0  0  0  0  0  0  0  0  0  0  0  0 23  0  0  0  0]\n",
      " [ 0  0  0  0  0  0  0  0  0  4  6  0  0  2  0  0  0  0 11  0  0  0]\n",
      " [ 0  0  0  0  0  0  0  0  0  0  0  0  0  0  0  0  0  0  0 23  0  0]\n",
      " [ 0  0  0  0  0  0  0  0 12  0  0  0  0  0  0  0  0  0  0  0  7  0]\n",
      " [ 0  0  0  0  0  0  0  0  0  0  0  0  0  0  0  6  0  0  0  0  0 13]]\n",
      "              precision    recall  f1-score   support\n",
      "\n",
      "           0       0.62      0.57      0.59        23\n",
      "           1       1.00      1.00      1.00        21\n",
      "           2       0.89      0.85      0.87        20\n",
      "           3       1.00      1.00      1.00        26\n",
      "           4       0.89      0.89      0.89        27\n",
      "           5       0.89      0.94      0.91        17\n",
      "           6       0.89      1.00      0.94        17\n",
      "           7       0.38      0.43      0.40        14\n",
      "           8       0.48      0.48      0.48        23\n",
      "           9       0.74      0.70      0.72        20\n",
      "          10       0.26      0.45      0.33        11\n",
      "          11       1.00      0.95      0.98        21\n",
      "          12       0.79      0.79      0.79        19\n",
      "          13       0.82      0.75      0.78        24\n",
      "          14       0.93      0.74      0.82        19\n",
      "          15       0.57      0.47      0.52        17\n",
      "          16       1.00      1.00      1.00        14\n",
      "          17       1.00      1.00      1.00        23\n",
      "          18       0.52      0.48      0.50        23\n",
      "          19       0.92      1.00      0.96        23\n",
      "          20       0.41      0.37      0.39        19\n",
      "          21       0.59      0.68      0.63        19\n",
      "\n",
      "    accuracy                           0.76       440\n",
      "   macro avg       0.75      0.75      0.75       440\n",
      "weighted avg       0.77      0.76      0.77       440\n",
      "\n"
     ]
    }
   ],
   "source": [
    "from sklearn.tree import DecisionTreeClassifier\n",
    "tree = DecisionTreeClassifier(criterion=  'entropy',random_state=42) \n",
    "tree.fit(X_train, Y_train)\n",
    "\n",
    "Y_pred = tree.predict(X_test)\n",
    "\n",
    "print(accuracy_score(Y_test,Y_pred))\n",
    "\n",
    "print(f1_score(Y_test,Y_pred,average='micro'))\n",
    "\n",
    "print(precision_score(Y_test,Y_pred,average=\"micro\"))\n",
    "\n",
    "print(recall_score(Y_test,Y_pred, average=\"micro\"))\n",
    "\n",
    "print(confusion_matrix(Y_test,Y_pred))\n",
    "\n",
    "print(classification_report(Y_test,Y_pred))\n",
    "\n"
   ]
  },
  {
   "cell_type": "markdown",
   "id": "266fb3cf",
   "metadata": {},
   "source": [
    "# Train a Decision tree model, make predictions and evaluate the model\n",
    "\n",
    "- Accuracy, f1-score, precision, recall, confusion matrix, and classification report."
   ]
  },
  {
   "cell_type": "code",
   "execution_count": 32,
   "id": "420b6933",
   "metadata": {},
   "outputs": [
    {
     "name": "stdout",
     "output_type": "stream",
     "text": [
      "0.8090909090909091\n",
      "0.8090909090909091\n",
      "0.8090909090909091\n",
      "0.8090909090909091\n",
      "[[14  0  0  0  0  0  0  9  0  0  0  0  0  0  0  0  0  0  0  0  0  0]\n",
      " [ 0 21  0  0  0  0  0  0  0  0  0  0  0  0  0  0  0  0  0  0  0  0]\n",
      " [ 0  0 17  0  0  0  0  0  0  0  2  0  0  0  0  0  0  0  1  0  0  0]\n",
      " [ 0  0  0 26  0  0  0  0  0  0  0  0  0  0  0  0  0  0  0  0  0  0]\n",
      " [ 0  0  0  0 24  0  0  0  0  0  0  0  3  0  0  0  0  0  0  0  0  0]\n",
      " [ 0  0  0  0  0 16  1  0  0  0  0  0  0  0  0  0  0  0  0  0  0  0]\n",
      " [ 0  0  0  0  0  0 17  0  0  0  0  0  0  0  0  0  0  0  0  0  0  0]\n",
      " [ 7  0  0  0  0  0  0  7  0  0  0  0  0  0  0  0  0  0  0  0  0  0]\n",
      " [ 0  0  0  0  0  2  0  0 14  0  0  0  0  0  0  0  0  0  0  0  7  0]\n",
      " [ 0  0  0  0  0  0  0  0  0 20  0  0  0  0  0  0  0  0  0  0  0  0]\n",
      " [ 0  0  1  0  0  0  0  0  0  1  8  0  0  0  0  0  0  0  1  0  0  0]\n",
      " [ 0  0  0  0  0  0  1  0  0  0  0 20  0  0  0  0  0  0  0  0  0  0]\n",
      " [ 0  0  0  0  3  0  0  0  0  0  0  0 14  1  1  0  0  0  0  0  0  0]\n",
      " [ 0  0  0  0  0  0  0  0  0  0  2  0  0 20  1  0  0  0  1  0  0  0]\n",
      " [ 0  0  0  0  0  0  0  0  0  0  0  0  0  0 19  0  0  0  0  0  0  0]\n",
      " [ 0  0  0  0  0  0  0  0  0  0  0  0  0  0  0  9  0  0  0  0  0  8]\n",
      " [ 0  0  0  0  0  0  0  0  0  0  0  0  0  0  0  0 14  0  0  0  0  0]\n",
      " [ 0  0  0  0  0  0  0  0  0  0  0  0  0  0  0  0  0 23  0  0  0  0]\n",
      " [ 0  0  0  0  0  0  0  0  0  4  4  0  0  1  2  0  0  0 12  0  0  0]\n",
      " [ 0  0  0  0  2  0  0  0  0  0  0  0  0  0  0  0  0  0  0 21  0  0]\n",
      " [ 0  0  0  0  0  0  0  0 12  0  0  0  0  0  0  0  0  0  0  0  7  0]\n",
      " [ 0  0  0  0  0  0  0  0  0  0  0  0  0  0  0  6  0  0  0  0  0 13]]\n",
      "              precision    recall  f1-score   support\n",
      "\n",
      "           0       0.67      0.61      0.64        23\n",
      "           1       1.00      1.00      1.00        21\n",
      "           2       0.94      0.85      0.89        20\n",
      "           3       1.00      1.00      1.00        26\n",
      "           4       0.83      0.89      0.86        27\n",
      "           5       0.89      0.94      0.91        17\n",
      "           6       0.89      1.00      0.94        17\n",
      "           7       0.44      0.50      0.47        14\n",
      "           8       0.54      0.61      0.57        23\n",
      "           9       0.80      1.00      0.89        20\n",
      "          10       0.50      0.73      0.59        11\n",
      "          11       1.00      0.95      0.98        21\n",
      "          12       0.82      0.74      0.78        19\n",
      "          13       0.91      0.83      0.87        24\n",
      "          14       0.83      1.00      0.90        19\n",
      "          15       0.60      0.53      0.56        17\n",
      "          16       1.00      1.00      1.00        14\n",
      "          17       1.00      1.00      1.00        23\n",
      "          18       0.80      0.52      0.63        23\n",
      "          19       1.00      0.91      0.95        23\n",
      "          20       0.50      0.37      0.42        19\n",
      "          21       0.62      0.68      0.65        19\n",
      "\n",
      "    accuracy                           0.81       440\n",
      "   macro avg       0.80      0.80      0.80       440\n",
      "weighted avg       0.81      0.81      0.81       440\n",
      "\n"
     ]
    }
   ],
   "source": [
    "from sklearn.ensemble import RandomForestClassifier\n",
    "RF = RandomForestClassifier(criterion=  'entropy',random_state=42) \n",
    "RF.fit(X_train, Y_train)\n",
    "\n",
    "Y_pred = RF.predict(X_test)\n",
    "\n",
    "print(accuracy_score(Y_test,Y_pred))\n",
    "\n",
    "print(f1_score(Y_test,Y_pred,average='micro'))\n",
    "\n",
    "print(precision_score(Y_test,Y_pred,average=\"micro\"))\n",
    "\n",
    "print(recall_score(Y_test,Y_pred, average=\"micro\"))\n",
    "\n",
    "print(confusion_matrix(Y_test,Y_pred))\n",
    "\n",
    "print(classification_report(Y_test,Y_pred))\n",
    "\n"
   ]
  },
  {
   "cell_type": "markdown",
   "id": "7e8d13f5",
   "metadata": {},
   "source": [
    "# Train a default KNN model, make predictions and evaluate the model\n",
    "\n",
    "- Accuracy, f1-score, precision, recall, confusion matrix, and classification report."
   ]
  },
  {
   "cell_type": "code",
   "execution_count": 33,
   "id": "2c314d31",
   "metadata": {},
   "outputs": [
    {
     "name": "stdout",
     "output_type": "stream",
     "text": [
      "0.634090909090909\n",
      "0.634090909090909\n",
      "0.634090909090909\n",
      "0.634090909090909\n",
      "[[ 9  0  0  0  0  0  0 14  0  0  0  0  0  0  0  0  0  0  0  0  0  0]\n",
      " [ 0 21  0  0  0  0  0  0  0  0  0  0  0  0  0  0  0  0  0  0  0  0]\n",
      " [ 0  0 12  0  0  0  0  0  0  3  4  0  0  0  0  0  0  0  1  0  0  0]\n",
      " [ 0  0  0 26  0  0  0  0  0  0  0  0  0  0  0  0  0  0  0  0  0  0]\n",
      " [ 0  0  0  0 18  0  0  0  0  0  0  0  8  0  0  0  0  0  0  1  0  0]\n",
      " [ 0  0  0  0  0 15  1  0  0  0  0  0  0  0  0  0  0  0  0  0  1  0]\n",
      " [ 0  0  0  0  0  0 16  0  0  0  0  1  0  0  0  0  0  0  0  0  0  0]\n",
      " [ 7  0  0  0  0  0  0  7  0  0  0  0  0  0  0  0  0  0  0  0  0  0]\n",
      " [ 0  0  0  0  0  2  0  0 15  0  0  0  0  0  0  0  0  0  0  0  6  0]\n",
      " [ 0  0  4  0  0  0  0  0  0  3  7  0  0  2  1  0  0  0  3  0  0  0]\n",
      " [ 0  0  1  0  0  0  0  0  0  2  3  0  0  0  1  0  0  0  4  0  0  0]\n",
      " [ 0  0  0  0  0  0  2  0  0  0  0 19  0  0  0  0  0  0  0  0  0  0]\n",
      " [ 0  0  0  0  8  0  0  0  0  0  0  0 10  0  1  0  0  0  0  0  0  0]\n",
      " [ 0  0  0  0  0  0  0  0  0  0  0  0  0  6 15  0  0  0  3  0  0  0]\n",
      " [ 0  0  0  0  0  0  0  0  0  2  1  0  1  8  7  0  0  0  0  0  0  0]\n",
      " [ 0  0  0  0  0  0  0  0  0  0  0  0  0  0  0 10  0  0  0  0  0  7]\n",
      " [ 0  0  0  0  0  0  0  0  0  0  0  0  0  0  0  0 14  0  0  0  0  0]\n",
      " [ 0  0  0  0  0  0  0  0  0  0  0  0  0  0  0  0  0 20  0  0  3  0]\n",
      " [ 0  0  1  0  0  0  0  0  0  7  4  0  0  1  0  0  0  0 10  0  0  0]\n",
      " [ 0  0  0  0  2  0  0  0  0  0  0  0  1  0  0  0  0  0  0 20  0  0]\n",
      " [ 0  0  0  0  0  1  0  0  7  0  0  0  0  0  0  0  0  0  0  0 11  0]\n",
      " [ 0  0  0  0  0  0  0  0  0  0  0  0  0  0  0 12  0  0  0  0  0  7]]\n",
      "              precision    recall  f1-score   support\n",
      "\n",
      "           0       0.56      0.39      0.46        23\n",
      "           1       1.00      1.00      1.00        21\n",
      "           2       0.67      0.60      0.63        20\n",
      "           3       1.00      1.00      1.00        26\n",
      "           4       0.64      0.67      0.65        27\n",
      "           5       0.83      0.88      0.86        17\n",
      "           6       0.84      0.94      0.89        17\n",
      "           7       0.33      0.50      0.40        14\n",
      "           8       0.68      0.65      0.67        23\n",
      "           9       0.18      0.15      0.16        20\n",
      "          10       0.16      0.27      0.20        11\n",
      "          11       0.95      0.90      0.93        21\n",
      "          12       0.50      0.53      0.51        19\n",
      "          13       0.35      0.25      0.29        24\n",
      "          14       0.28      0.37      0.32        19\n",
      "          15       0.45      0.59      0.51        17\n",
      "          16       1.00      1.00      1.00        14\n",
      "          17       1.00      0.87      0.93        23\n",
      "          18       0.48      0.43      0.45        23\n",
      "          19       0.95      0.87      0.91        23\n",
      "          20       0.52      0.58      0.55        19\n",
      "          21       0.50      0.37      0.42        19\n",
      "\n",
      "    accuracy                           0.63       440\n",
      "   macro avg       0.63      0.63      0.63       440\n",
      "weighted avg       0.65      0.63      0.64       440\n",
      "\n"
     ]
    }
   ],
   "source": [
    "from sklearn.neighbors import KNeighborsClassifier\n",
    "KNN = KNeighborsClassifier(n_neighbors=1) \n",
    "KNN.fit(X_train, Y_train)\n",
    "\n",
    "Y_pred = KNN.predict(X_test)\n",
    "\n",
    "print(accuracy_score(Y_test,Y_pred))\n",
    "\n",
    "print(f1_score(Y_test,Y_pred,average='micro'))\n",
    "\n",
    "print(precision_score(Y_test,Y_pred,average=\"micro\"))\n",
    "\n",
    "print(recall_score(Y_test,Y_pred, average=\"micro\"))\n",
    "\n",
    "print(confusion_matrix(Y_test,Y_pred))\n",
    "\n",
    "print(classification_report(Y_test,Y_pred))\n",
    "\n"
   ]
  },
  {
   "cell_type": "markdown",
   "id": "948b43b0",
   "metadata": {},
   "source": [
    "# Try different values of K in the KNN model and select the best one.\n",
    "\n",
    "- Based on the accuracy."
   ]
  },
  {
   "cell_type": "code",
   "execution_count": 34,
   "id": "d854ba49",
   "metadata": {},
   "outputs": [
    {
     "name": "stdout",
     "output_type": "stream",
     "text": [
      "0.65625\n",
      "{'n_neighbors': 4}\n",
      "KNeighborsClassifier(n_neighbors=4)\n"
     ]
    }
   ],
   "source": [
    "from sklearn.neighbors import KNeighborsClassifier\n",
    "from sklearn.model_selection import GridSearchCV\n",
    "\n",
    "knn = KNeighborsClassifier()\n",
    "\n",
    "param_grid = dict(n_neighbors = list(range(1,20)))\n",
    "\n",
    "grid = GridSearchCV(knn, param_grid, cv = 5, scoring = 'accuracy')\n",
    "grid.fit(X_train,Y_train)\n",
    "\n",
    "print (grid.best_score_)\n",
    "print (grid.best_params_)\n",
    "print (grid.best_estimator_)\n",
    "\n"
   ]
  }
 ],
 "metadata": {
  "colab": {
   "name": "Welcome to DataCamp Workspaces.ipynb",
   "provenance": []
  },
  "kernelspec": {
   "display_name": "Python 3 (ipykernel)",
   "language": "python",
   "name": "python3"
  },
  "language_info": {
   "codemirror_mode": {
    "name": "ipython",
    "version": 3
   },
   "file_extension": ".py",
   "mimetype": "text/x-python",
   "name": "python",
   "nbconvert_exporter": "python",
   "pygments_lexer": "ipython3",
   "version": "3.9.13"
  }
 },
 "nbformat": 4,
 "nbformat_minor": 5
}
