{
 "cells": [
  {
   "cell_type": "markdown",
   "id": "d3d001b0-2e2f-4b58-8442-99520bad831f",
   "metadata": {},
   "source": [
    "# Sowing Success: How Machine Learning Helps Farmers Select the Best Crops\n",
    "\n",
    "Measuring essential soil metrics such as nitrogen, phosphorous, potassium levels, and pH value is an important aspect of assessing soil condition. However, it can be an expensive and time-consuming process, which can cause farmers to prioritize which metrics to measure based on their budget constraints.\n",
    "\n",
    "Farmers have various options when it comes to deciding which crop to plant each season. Their primary objective is to maximize the yield of their crops, taking into account different factors. One crucial factor that affects crop growth is the condition of the soil in the field, which can be assessed by measuring basic elements such as nitrogen and potassium levels. Each crop has an ideal soil condition that ensures optimal growth and maximum yield.\n",
    "\n",
    "A farmer reached out to you as a machine learning expert for assistance in selecting the best crop for his field. They've provided you with a dataset called `soil_measures.csv`, which contains:\n",
    "\n",
    "- `\"N\"`: Nitrogen content ratio in the soil\n",
    "- `\"P\"`: Phosphorous content ratio in the soil\n",
    "- `\"K\"`: Potassium content ratio in the soil\n",
    "- `\"pH\"` value of the soil\n",
    "- `\"crop\"`: categorical values that contain various crops (target variable).\n",
    "\n",
    "Each row in this dataset represents various measures of the soil in a particular field. Based on these measurements, the crop specified in the `\"crop\"` column is the optimal choice for that field.  \n",
    "\n",
    "In this project, you will apply machine learning to build a multi-class classification model to predict the type of `\"crop\"`, while using techniques to avoid multicollinearity, which is a concept where two or more features are highly correlated."
   ]
  },
  {
   "cell_type": "markdown",
   "id": "aed30183",
   "metadata": {},
   "source": [
    "# Import Libraries"
   ]
  },
  {
   "cell_type": "code",
   "execution_count": 78,
   "id": "0cad523c",
   "metadata": {},
   "outputs": [],
   "source": [
    "import warnings\n",
    "warnings.filterwarnings('ignore')\n",
    "import numpy as np\n",
    "import pandas as pd \n",
    "import matplotlib.pyplot as plt\n",
    "%matplotlib inline\n",
    "import seaborn as sns\n",
    "import plotly.express as px\n",
    "from sklearn.model_selection import train_test_split \n",
    "from sklearn.preprocessing import MinMaxScaler\n",
    "from sklearn.preprocessing import StandardScaler\n",
    "from sklearn.linear_model import LogisticRegression\n",
    "from sklearn import preprocessing \n",
    "from sklearn.metrics import \\\n",
    "     classification_report, confusion_matrix,\\\n",
    "     accuracy_score, precision_score, recall_score, f1_score\n",
    "from sklearn.svm import SVC\n",
    "from sklearn.tree import DecisionTreeClassifier\n",
    "from sklearn.ensemble import RandomForestClassifier\n",
    "from sklearn.neighbors import KNeighborsClassifier\n",
    "from sklearn.model_selection import GridSearchCV\n"
   ]
  },
  {
   "cell_type": "markdown",
   "id": "be1af3d5",
   "metadata": {},
   "source": [
    "# Load the Dataset and make EDA\n",
    "\n",
    "- Print the head, tail, describe, info, shape."
   ]
  },
  {
   "cell_type": "code",
   "execution_count": 58,
   "id": "dc8e8172",
   "metadata": {},
   "outputs": [],
   "source": [
    "df = pd.read_csv('./soil_measures.csv')\n"
   ]
  },
  {
   "cell_type": "code",
   "execution_count": 59,
   "id": "34449031-ae03-451d-9fe4-f6eadf69c9fe",
   "metadata": {},
   "outputs": [
    {
     "name": "stdout",
     "output_type": "stream",
     "text": [
      "    N   P   K        ph  crop\n",
      "0  90  42  43  6.502985  rice\n",
      "1  85  58  41  7.038096  rice\n",
      "2  60  55  44  7.840207  rice\n",
      "3  74  35  40  6.980401  rice\n",
      "4  78  42  42  7.628473  rice\n",
      "-------------------------\n",
      "        N   P   K        ph    crop\n",
      "2195  107  34  32  6.780064  coffee\n",
      "2196   99  15  27  6.086922  coffee\n",
      "2197  118  33  30  6.362608  coffee\n",
      "2198  117  32  34  6.758793  coffee\n",
      "2199  104  18  30  6.779833  coffee\n",
      "-------------------------\n",
      "                 N            P            K           ph\n",
      "count  2200.000000  2200.000000  2200.000000  2200.000000\n",
      "mean     50.551818    53.362727    48.149091     6.469480\n",
      "std      36.917334    32.985883    50.647931     0.773938\n",
      "min       0.000000     5.000000     5.000000     3.504752\n",
      "25%      21.000000    28.000000    20.000000     5.971693\n",
      "50%      37.000000    51.000000    32.000000     6.425045\n",
      "75%      84.250000    68.000000    49.000000     6.923643\n",
      "max     140.000000   145.000000   205.000000     9.935091\n",
      "-------------------------\n",
      "<class 'pandas.core.frame.DataFrame'>\n",
      "RangeIndex: 2200 entries, 0 to 2199\n",
      "Data columns (total 5 columns):\n",
      " #   Column  Non-Null Count  Dtype  \n",
      "---  ------  --------------  -----  \n",
      " 0   N       2200 non-null   int64  \n",
      " 1   P       2200 non-null   int64  \n",
      " 2   K       2200 non-null   int64  \n",
      " 3   ph      2200 non-null   float64\n",
      " 4   crop    2200 non-null   object \n",
      "dtypes: float64(1), int64(3), object(1)\n",
      "memory usage: 86.1+ KB\n",
      "None\n",
      "-------------------------\n",
      "(2200, 5)\n"
     ]
    }
   ],
   "source": [
    "print(df.head())\n",
    "print('-'*25)\n",
    "print(df.tail())\n",
    "print('-'*25)\n",
    "print(df.describe())\n",
    "print('-'*25)\n",
    "print(df.info())\n",
    "print('-'*25)\n",
    "print(df.shape)"
   ]
  },
  {
   "cell_type": "markdown",
   "id": "93e157db",
   "metadata": {},
   "source": [
    "# Check the number of classes in the target label"
   ]
  },
  {
   "cell_type": "code",
   "execution_count": 60,
   "id": "caf46fb7",
   "metadata": {},
   "outputs": [
    {
     "data": {
      "text/plain": [
       "22"
      ]
     },
     "execution_count": 60,
     "metadata": {},
     "output_type": "execute_result"
    }
   ],
   "source": [
    "len(df['crop'].unique())"
   ]
  },
  {
   "cell_type": "markdown",
   "id": "dcf3e9c3",
   "metadata": {},
   "source": [
    "# Check is there missing data"
   ]
  },
  {
   "cell_type": "code",
   "execution_count": 61,
   "id": "065ef879",
   "metadata": {},
   "outputs": [
    {
     "data": {
      "text/plain": [
       "0"
      ]
     },
     "execution_count": 61,
     "metadata": {},
     "output_type": "execute_result"
    }
   ],
   "source": [
    "df.value_counts().isna().sum()"
   ]
  },
  {
   "cell_type": "markdown",
   "id": "2ae66e56",
   "metadata": {},
   "source": [
    "# Train test split\n",
    "\n",
    "- Test size is 20%"
   ]
  },
  {
   "cell_type": "code",
   "execution_count": 62,
   "id": "37ba5da7",
   "metadata": {},
   "outputs": [],
   "source": [
    "label_encoder = preprocessing.LabelEncoder() \n",
    "df['crop']= label_encoder.fit_transform(df['crop']) \n",
    "\n",
    "X_train, X_test, y_train, y_test = train_test_split(df.loc[:,df.columns != 'crop'],df.loc[:,df.columns  == 'crop'], random_state=42, test_size=0.2)"
   ]
  },
  {
   "cell_type": "markdown",
   "id": "a83ce43d",
   "metadata": {},
   "source": [
    "# Train a multiclass logistic regression model, make predictions and evaluate the model\n",
    "\n",
    "- Accuracy, f1-score, precision, recall, confusion matrix, and classification report."
   ]
  },
  {
   "cell_type": "code",
   "execution_count": 63,
   "id": "0b8dde2e",
   "metadata": {},
   "outputs": [
    {
     "name": "stderr",
     "output_type": "stream",
     "text": [
      "C:\\Users\\Yasserkm\\AppData\\Local\\Programs\\Python\\Python312\\Lib\\site-packages\\sklearn\\utils\\validation.py:1183: DataConversionWarning: A column-vector y was passed when a 1d array was expected. Please change the shape of y to (n_samples, ), for example using ravel().\n",
      "  y = column_or_1d(y, warn=True)\n",
      "C:\\Users\\Yasserkm\\AppData\\Local\\Programs\\Python\\Python312\\Lib\\site-packages\\sklearn\\linear_model\\_logistic.py:460: ConvergenceWarning: lbfgs failed to converge (status=1):\n",
      "STOP: TOTAL NO. of ITERATIONS REACHED LIMIT.\n",
      "\n",
      "Increase the number of iterations (max_iter) or scale the data as shown in:\n",
      "    https://scikit-learn.org/stable/modules/preprocessing.html\n",
      "Please also refer to the documentation for alternative solver options:\n",
      "    https://scikit-learn.org/stable/modules/linear_model.html#logistic-regression\n",
      "  n_iter_i = _check_optimize_result(\n"
     ]
    },
    {
     "name": "stdout",
     "output_type": "stream",
     "text": [
      "0.5681818181818182\n",
      "0.5681818181818182\n",
      "0.5681818181818182\n",
      "0.5681818181818182\n",
      "[[ 4  0  0  0  0  0  0 19  0  0  0  0  0  0  0  0  0  0  0  0  0  0]\n",
      " [ 0 21  0  0  0  0  0  0  0  0  0  0  0  0  0  0  0  0  0  0  0  0]\n",
      " [ 0  0 10  0  0  0  0  0  0  1  7  0  0  1  1  0  0  0  0  0  0  0]\n",
      " [ 0  0  0 26  0  0  0  0  0  0  0  0  0  0  0  0  0  0  0  0  0  0]\n",
      " [ 0  0  0  0  5  0  0  0  0  0  0  0 10  0  0  0  0  0  0 11  0  1]\n",
      " [ 0  0  0  0  0 16  0  0  1  0  0  0  0  0  0  0  0  0  0  0  0  0]\n",
      " [ 0  0  0  0  0  0 17  0  0  0  0  0  0  0  0  0  0  0  0  0  0  0]\n",
      " [ 3  0  0  0  0  0  0 11  0  0  0  0  0  0  0  0  0  0  0  0  0  0]\n",
      " [ 0  2  0  0  0  1  0  0  8  0  0  0  0  0  0  0  0  2  0  0 10  0]\n",
      " [ 0  0  3  0  0  0  0  0  0  5  4  0  0  0  1  0  0  0  7  0  0  0]\n",
      " [ 0  0  1  0  0  0  0  0  0  1  6  0  0  1  1  0  0  0  1  0  0  0]\n",
      " [ 0  0  0  0  0  0  5  0  1  0  0 15  0  0  0  0  0  0  0  0  0  0]\n",
      " [ 0  0  0  0  3  0  0  0  1  0  0  0 12  1  0  0  0  1  0  1  0  0]\n",
      " [ 0  1  3  0  0  0  0  0  0  0  1  0  1  2 12  0  1  0  3  0  0  0]\n",
      " [ 0  0  5  0  0  0  0  0  0  0  1  0  1  2 10  0  0  0  0  0  0  0]\n",
      " [ 0  0  0  0  0  0  0  0  0  0  0  0  0  0  0 13  0  0  0  0  0  4]\n",
      " [ 0  0  0  0  0  0  0  0  0  0  0  0  0  0  0  0 14  0  0  0  0  0]\n",
      " [ 0  0  0  0  0  0  0  0  0  0  0  0  0  0  0  0  0 23  0  0  0  0]\n",
      " [ 0  0  4  0  0  0  0  0  0  6  5  0  0  0  2  0  0  0  6  0  0  0]\n",
      " [ 0  0  0  0  6  0  0  0  0  0  0  0  4  0  0  0  0  0  0 13  0  0]\n",
      " [ 0  2  0  0  0  0  0  0  8  0  0  1  0  0  0  0  0  1  0  0  7  0]\n",
      " [ 0  0  0  0  0  0  0  0  0  0  0  0  0  0  0 13  0  0  0  0  0  6]]\n",
      "              precision    recall  f1-score   support\n",
      "\n",
      "           0       0.57      0.17      0.27        23\n",
      "           1       0.81      1.00      0.89        21\n",
      "           2       0.38      0.50      0.43        20\n",
      "           3       1.00      1.00      1.00        26\n",
      "           4       0.36      0.19      0.24        27\n",
      "           5       0.94      0.94      0.94        17\n",
      "           6       0.77      1.00      0.87        17\n",
      "           7       0.37      0.79      0.50        14\n",
      "           8       0.42      0.35      0.38        23\n",
      "           9       0.38      0.25      0.30        20\n",
      "          10       0.25      0.55      0.34        11\n",
      "          11       0.94      0.71      0.81        21\n",
      "          12       0.43      0.63      0.51        19\n",
      "          13       0.29      0.08      0.13        24\n",
      "          14       0.37      0.53      0.43        19\n",
      "          15       0.50      0.76      0.60        17\n",
      "          16       0.93      1.00      0.97        14\n",
      "          17       0.85      1.00      0.92        23\n",
      "          18       0.35      0.26      0.30        23\n",
      "          19       0.52      0.57      0.54        23\n",
      "          20       0.41      0.37      0.39        19\n",
      "          21       0.55      0.32      0.40        19\n",
      "\n",
      "    accuracy                           0.57       440\n",
      "   macro avg       0.56      0.59      0.55       440\n",
      "weighted avg       0.57      0.57      0.55       440\n",
      "\n"
     ]
    }
   ],
   "source": [
    "logmodel = LogisticRegression()\n",
    "logmodel.fit(X_train, y_train)\n",
    "y_pred = logmodel.predict(X_test)\n",
    "\n",
    "print(accuracy_score(y_test,y_pred))\n",
    "print(f1_score(y_test,y_pred, average=\"micro\"))\n",
    "print(precision_score(y_test,y_pred,average=\"micro\"))\n",
    "print(recall_score(y_test,y_pred, average=\"micro\"))\n",
    "\n",
    "print(confusion_matrix(y_test,y_pred))\n",
    "print(classification_report(y_test,y_pred))"
   ]
  },
  {
   "cell_type": "markdown",
   "id": "e5f14035",
   "metadata": {},
   "source": [
    "# Train a SVM model, make predictions and evaluate the model\n",
    "\n",
    "- Accuracy, f1-score, precision, recall, confusion matrix, and classification report."
   ]
  },
  {
   "cell_type": "code",
   "execution_count": 75,
   "id": "18fccbee",
   "metadata": {},
   "outputs": [
    {
     "name": "stderr",
     "output_type": "stream",
     "text": [
      "C:\\Users\\Yasserkm\\AppData\\Local\\Programs\\Python\\Python312\\Lib\\site-packages\\sklearn\\utils\\validation.py:1183: DataConversionWarning: A column-vector y was passed when a 1d array was expected. Please change the shape of y to (n_samples, ), for example using ravel().\n",
      "  y = column_or_1d(y, warn=True)\n"
     ]
    },
    {
     "name": "stdout",
     "output_type": "stream",
     "text": [
      "0.6045454545454545\n",
      "0.6045454545454545\n",
      "0.6045454545454545\n",
      "0.6045454545454545\n",
      "[[ 1  0  0  0  0  0  0 22  0  0  0  0  0  0  0  0  0  0  0  0  0  0]\n",
      " [ 0 21  0  0  0  0  0  0  0  0  0  0  0  0  0  0  0  0  0  0  0  0]\n",
      " [ 0  0 11  0  0  0  0  0  0  0  9  0  0  0  0  0  0  0  0  0  0  0]\n",
      " [ 0  0  0 26  0  0  0  0  0  0  0  0  0  0  0  0  0  0  0  0  0  0]\n",
      " [ 0  0  0  0 18  0  0  0  0  0  0  0  8  0  0  0  0  0  0  1  0  0]\n",
      " [ 0  0  0  0  0 15  1  0  0  0  0  0  0  0  0  0  0  0  0  0  1  0]\n",
      " [ 0  0  0  0  0  0 17  0  0  0  0  0  0  0  0  0  0  0  0  0  0  0]\n",
      " [ 0  0  0  0  0  0  0 14  0  0  0  0  0  0  0  0  0  0  0  0  0  0]\n",
      " [ 0  0  0  0  0  1  0  0  0  0  0  0  0  0  0  0  0  0  0  0 22  0]\n",
      " [ 0  0  3  0  0  0  0  0  0  0 16  0  0  0  1  0  0  0  0  0  0  0]\n",
      " [ 0  0  1  0  0  0  0  0  0  1  9  0  0  0  0  0  0  0  0  0  0  0]\n",
      " [ 0  0  1  0  0  0  4  0  0  0  0 16  0  0  0  0  0  0  0  0  0  0]\n",
      " [ 0  0  0  0  5  0  0  0  0  0  0  0 13  0  1  0  0  0  0  0  0  0]\n",
      " [ 0  0  1  0  0  0  0  0  0  0  3  0  0  0 20  0  0  0  0  0  0  0]\n",
      " [ 0  0  2  0  0  0  0  0  0  0  2  0  1  0 14  0  0  0  0  0  0  0]\n",
      " [ 0  0  0  0  0  0  0  0  0  0  0  0  0  0  0 17  0  0  0  0  0  0]\n",
      " [ 0  0  0  0  0  0  0  0  0  0  0  0  0  0  0  0 14  0  0  0  0  0]\n",
      " [ 0  0  0  0  0  0  0  0  0  0  0  0  0  0  0  0  0 22  0  0  1  0]\n",
      " [ 0  0  5  0  0  0  0  0  0  1 15  0  0  0  2  0  0  0  0  0  0  0]\n",
      " [ 0  0  0  0  2  0  0  0  0  0  0  0  2  0  0  0  0  0  0 19  0  0]\n",
      " [ 0  0  0  0  0  0  0  0  0  0  0  0  0  0  0  0  0  0  0  0 19  0]\n",
      " [ 0  0  0  0  0  0  0  0  0  0  0  0  0  0  0 19  0  0  0  0  0  0]]\n",
      "              precision    recall  f1-score   support\n",
      "\n",
      "           0       1.00      0.04      0.08        23\n",
      "           1       1.00      1.00      1.00        21\n",
      "           2       0.46      0.55      0.50        20\n",
      "           3       1.00      1.00      1.00        26\n",
      "           4       0.72      0.67      0.69        27\n",
      "           5       0.94      0.88      0.91        17\n",
      "           6       0.77      1.00      0.87        17\n",
      "           7       0.39      1.00      0.56        14\n",
      "           8       0.00      0.00      0.00        23\n",
      "           9       0.00      0.00      0.00        20\n",
      "          10       0.17      0.82      0.28        11\n",
      "          11       1.00      0.76      0.86        21\n",
      "          12       0.54      0.68      0.60        19\n",
      "          13       0.00      0.00      0.00        24\n",
      "          14       0.37      0.74      0.49        19\n",
      "          15       0.47      1.00      0.64        17\n",
      "          16       1.00      1.00      1.00        14\n",
      "          17       1.00      0.96      0.98        23\n",
      "          18       0.00      0.00      0.00        23\n",
      "          19       0.95      0.83      0.88        23\n",
      "          20       0.44      1.00      0.61        19\n",
      "          21       0.00      0.00      0.00        19\n",
      "\n",
      "    accuracy                           0.60       440\n",
      "   macro avg       0.56      0.63      0.54       440\n",
      "weighted avg       0.56      0.60      0.54       440\n",
      "\n"
     ]
    },
    {
     "name": "stderr",
     "output_type": "stream",
     "text": [
      "C:\\Users\\Yasserkm\\AppData\\Local\\Programs\\Python\\Python312\\Lib\\site-packages\\sklearn\\metrics\\_classification.py:1471: UndefinedMetricWarning: Precision and F-score are ill-defined and being set to 0.0 in labels with no predicted samples. Use `zero_division` parameter to control this behavior.\n",
      "  _warn_prf(average, modifier, msg_start, len(result))\n",
      "C:\\Users\\Yasserkm\\AppData\\Local\\Programs\\Python\\Python312\\Lib\\site-packages\\sklearn\\metrics\\_classification.py:1471: UndefinedMetricWarning: Precision and F-score are ill-defined and being set to 0.0 in labels with no predicted samples. Use `zero_division` parameter to control this behavior.\n",
      "  _warn_prf(average, modifier, msg_start, len(result))\n",
      "C:\\Users\\Yasserkm\\AppData\\Local\\Programs\\Python\\Python312\\Lib\\site-packages\\sklearn\\metrics\\_classification.py:1471: UndefinedMetricWarning: Precision and F-score are ill-defined and being set to 0.0 in labels with no predicted samples. Use `zero_division` parameter to control this behavior.\n",
      "  _warn_prf(average, modifier, msg_start, len(result))\n"
     ]
    }
   ],
   "source": [
    "svc = SVC(kernel='rbf')\n",
    "svc.fit(X_train, y_train)\n",
    "y_pred = svc.predict(X_test)\n",
    "\n",
    "print(accuracy_score(y_test,y_pred))\n",
    "print(f1_score(y_test,y_pred, average=\"micro\"))\n",
    "print(precision_score(y_test,y_pred,average=\"micro\"))\n",
    "print(recall_score(y_test,y_pred, average=\"micro\"))\n",
    "\n",
    "print(confusion_matrix(y_test,y_pred))\n",
    "print(classification_report(y_test,y_pred))"
   ]
  },
  {
   "cell_type": "markdown",
   "id": "9d7b1f23",
   "metadata": {},
   "source": [
    "# Train a Decision tree model, make predictions and evaluate the model\n",
    "\n",
    "- Accuracy, f1-score, precision, recall, confusion matrix, and classification report."
   ]
  },
  {
   "cell_type": "code",
   "execution_count": 65,
   "id": "44482479",
   "metadata": {},
   "outputs": [
    {
     "name": "stdout",
     "output_type": "stream",
     "text": [
      "0.7772727272727272\n",
      "0.7772727272727271\n",
      "0.7772727272727272\n",
      "0.7772727272727272\n",
      "[[16  0  0  0  0  0  0  7  0  0  0  0  0  0  0  0  0  0  0  0  0  0]\n",
      " [ 0 21  0  0  0  0  0  0  0  0  0  0  0  0  0  0  0  0  0  0  0  0]\n",
      " [ 0  0 16  0  0  0  0  0  0  0  1  0  0  1  0  0  0  0  2  0  0  0]\n",
      " [ 0  0  0 26  0  0  0  0  0  0  0  0  0  0  0  0  0  0  0  0  0  0]\n",
      " [ 0  0  0  0 24  0  0  0  0  0  0  0  2  0  0  0  0  0  0  1  0  0]\n",
      " [ 0  0  0  0  0 16  1  0  0  0  0  0  0  0  0  0  0  0  0  0  0  0]\n",
      " [ 0  0  0  0  0  0 17  0  0  0  0  0  0  0  0  0  0  0  0  0  0  0]\n",
      " [ 6  0  0  0  0  0  0  8  0  0  0  0  0  0  0  0  0  0  0  0  0  0]\n",
      " [ 0  0  0  0  0  2  0  0 12  0  0  0  0  0  0  0  0  0  0  0  9  0]\n",
      " [ 0  0  0  0  0  0  0  0  0 12  2  0  0  1  0  0  0  0  5  0  0  0]\n",
      " [ 0  0  2  0  0  0  0  0  0  1  3  0  0  0  0  0  0  0  5  0  0  0]\n",
      " [ 0  0  0  0  0  0  1  0  0  0  0 20  0  0  0  0  0  0  0  0  0  0]\n",
      " [ 0  0  0  0  4  0  0  0  0  0  0  0 13  1  1  0  0  0  0  0  0  0]\n",
      " [ 0  0  1  0  0  0  0  0  0  0  2  0  0 18  1  0  0  0  2  0  0  0]\n",
      " [ 0  0  0  0  0  0  0  0  0  0  1  0  0  0 17  0  0  0  1  0  0  0]\n",
      " [ 0  0  0  0  0  0  0  0  0  0  0  0  0  0  0 10  0  0  0  0  0  7]\n",
      " [ 0  0  0  0  0  0  0  0  0  0  0  0  0  0  0  0 14  0  0  0  0  0]\n",
      " [ 0  0  0  0  0  0  0  0  0  0  0  0  0  0  0  0  0 23  0  0  0  0]\n",
      " [ 0  0  0  0  0  0  0  0  0  4  6  0  0  1  0  0  0  0 12  0  0  0]\n",
      " [ 0  0  0  0  0  0  0  0  0  0  0  0  0  0  0  0  0  0  0 23  0  0]\n",
      " [ 0  0  0  0  0  0  0  0 11  0  0  0  0  0  0  0  0  0  0  0  8  0]\n",
      " [ 0  0  0  0  0  0  0  0  0  0  0  0  0  0  0  6  0  0  0  0  0 13]]\n",
      "              precision    recall  f1-score   support\n",
      "\n",
      "           0       0.73      0.70      0.71        23\n",
      "           1       1.00      1.00      1.00        21\n",
      "           2       0.84      0.80      0.82        20\n",
      "           3       1.00      1.00      1.00        26\n",
      "           4       0.86      0.89      0.87        27\n",
      "           5       0.89      0.94      0.91        17\n",
      "           6       0.89      1.00      0.94        17\n",
      "           7       0.53      0.57      0.55        14\n",
      "           8       0.52      0.52      0.52        23\n",
      "           9       0.71      0.60      0.65        20\n",
      "          10       0.20      0.27      0.23        11\n",
      "          11       1.00      0.95      0.98        21\n",
      "          12       0.87      0.68      0.76        19\n",
      "          13       0.82      0.75      0.78        24\n",
      "          14       0.89      0.89      0.89        19\n",
      "          15       0.62      0.59      0.61        17\n",
      "          16       1.00      1.00      1.00        14\n",
      "          17       1.00      1.00      1.00        23\n",
      "          18       0.44      0.52      0.48        23\n",
      "          19       0.96      1.00      0.98        23\n",
      "          20       0.47      0.42      0.44        19\n",
      "          21       0.65      0.68      0.67        19\n",
      "\n",
      "    accuracy                           0.78       440\n",
      "   macro avg       0.77      0.76      0.76       440\n",
      "weighted avg       0.78      0.78      0.78       440\n",
      "\n"
     ]
    }
   ],
   "source": [
    "dtree = DecisionTreeClassifier()\n",
    "dtree = dtree.fit(X_train,y_train)\n",
    "y_pred = dtree.predict(X_test)\n",
    "\n",
    "print(accuracy_score(y_test,y_pred))\n",
    "print(f1_score(y_test,y_pred, average=\"micro\"))\n",
    "print(precision_score(y_test,y_pred,average=\"micro\"))\n",
    "print(recall_score(y_test,y_pred, average=\"micro\"))\n",
    "\n",
    "print(confusion_matrix(y_test,y_pred))\n",
    "print(classification_report(y_test,y_pred))"
   ]
  },
  {
   "cell_type": "markdown",
   "id": "266fb3cf",
   "metadata": {},
   "source": [
    "# Train a Random forest model, make predictions and evaluate the model\n",
    "\n",
    "- Accuracy, f1-score, precision, recall, confusion matrix, and classification report."
   ]
  },
  {
   "cell_type": "code",
   "execution_count": 66,
   "id": "420b6933",
   "metadata": {},
   "outputs": [
    {
     "name": "stderr",
     "output_type": "stream",
     "text": [
      "C:\\Users\\Yasserkm\\AppData\\Local\\Programs\\Python\\Python312\\Lib\\site-packages\\sklearn\\base.py:1152: DataConversionWarning: A column-vector y was passed when a 1d array was expected. Please change the shape of y to (n_samples,), for example using ravel().\n",
      "  return fit_method(estimator, *args, **kwargs)\n"
     ]
    },
    {
     "name": "stdout",
     "output_type": "stream",
     "text": [
      "accuracy: 0.8204545454545454\n",
      "\n",
      "f1_score: 0.8204545454545454\n",
      "\n",
      "precition: 0.8204545454545454\n",
      "\n",
      "recall: 0.8204545454545454\n",
      "\n",
      "confusion matrix: \n",
      " [[17  0  0  0  0  0  0  6  0  0  0  0  0  0  0  0  0  0  0  0  0  0]\n",
      " [ 0 21  0  0  0  0  0  0  0  0  0  0  0  0  0  0  0  0  0  0  0  0]\n",
      " [ 0  0 17  0  0  0  0  0  0  0  2  0  0  0  0  0  0  0  1  0  0  0]\n",
      " [ 0  0  0 26  0  0  0  0  0  0  0  0  0  0  0  0  0  0  0  0  0  0]\n",
      " [ 0  0  0  0 24  0  0  0  0  0  0  0  3  0  0  0  0  0  0  0  0  0]\n",
      " [ 0  0  0  0  0 16  1  0  0  0  0  0  0  0  0  0  0  0  0  0  0  0]\n",
      " [ 0  0  0  0  0  0 17  0  0  0  0  0  0  0  0  0  0  0  0  0  0  0]\n",
      " [ 5  0  0  0  0  0  0  9  0  0  0  0  0  0  0  0  0  0  0  0  0  0]\n",
      " [ 0  0  0  0  0  3  0  0 13  0  0  0  0  0  0  0  0  0  0  0  7  0]\n",
      " [ 0  0  0  0  0  0  0  0  0 19  0  0  0  0  0  0  0  0  1  0  0  0]\n",
      " [ 0  0  1  0  0  0  0  0  0  1  8  0  0  0  0  0  0  0  1  0  0  0]\n",
      " [ 0  0  0  0  0  0  1  0  0  0  0 20  0  0  0  0  0  0  0  0  0  0]\n",
      " [ 0  0  0  0  3  0  0  0  0  0  0  0 14  1  1  0  0  0  0  0  0  0]\n",
      " [ 0  0  0  0  0  0  0  0  0  0  1  0  0 20  2  0  0  0  1  0  0  0]\n",
      " [ 0  0  0  0  0  0  0  0  0  0  0  0  0  0 19  0  0  0  0  0  0  0]\n",
      " [ 0  0  0  0  0  0  0  0  0  0  0  0  0  0  0 11  0  0  0  0  0  6]\n",
      " [ 0  0  0  0  0  0  0  0  0  0  0  0  0  0  0  0 14  0  0  0  0  0]\n",
      " [ 0  0  0  0  0  0  0  0  0  0  0  0  0  0  0  0  0 23  0  0  0  0]\n",
      " [ 0  0  0  0  0  0  0  0  0  5  5  0  0  1  2  0  0  0 10  0  0  0]\n",
      " [ 0  0  0  0  2  0  0  0  0  0  0  0  0  0  0  0  0  0  0 21  0  0]\n",
      " [ 0  0  0  0  0  0  0  0 10  0  0  0  0  0  0  0  0  0  0  0  9  0]\n",
      " [ 0  0  0  0  0  0  0  0  0  0  0  0  0  0  0  6  0  0  0  0  0 13]]\n",
      "\n",
      "classification report:\n",
      "               precision    recall  f1-score   support\n",
      "\n",
      "           0       0.77      0.74      0.76        23\n",
      "           1       1.00      1.00      1.00        21\n",
      "           2       0.94      0.85      0.89        20\n",
      "           3       1.00      1.00      1.00        26\n",
      "           4       0.83      0.89      0.86        27\n",
      "           5       0.84      0.94      0.89        17\n",
      "           6       0.89      1.00      0.94        17\n",
      "           7       0.60      0.64      0.62        14\n",
      "           8       0.57      0.57      0.57        23\n",
      "           9       0.76      0.95      0.84        20\n",
      "          10       0.50      0.73      0.59        11\n",
      "          11       1.00      0.95      0.98        21\n",
      "          12       0.82      0.74      0.78        19\n",
      "          13       0.91      0.83      0.87        24\n",
      "          14       0.79      1.00      0.88        19\n",
      "          15       0.65      0.65      0.65        17\n",
      "          16       1.00      1.00      1.00        14\n",
      "          17       1.00      1.00      1.00        23\n",
      "          18       0.71      0.43      0.54        23\n",
      "          19       1.00      0.91      0.95        23\n",
      "          20       0.56      0.47      0.51        19\n",
      "          21       0.68      0.68      0.68        19\n",
      "\n",
      "    accuracy                           0.82       440\n",
      "   macro avg       0.81      0.82      0.81       440\n",
      "weighted avg       0.82      0.82      0.82       440\n",
      "\n"
     ]
    }
   ],
   "source": [
    "rf = RandomForestClassifier()\n",
    "rf.fit(X_train, y_train)\n",
    "y_pred = rf.predict(X_test)\n",
    "\n",
    "print(f'accuracy: {accuracy_score(y_test,y_pred)}\\n')\n",
    "print(f'f1_score: {f1_score(y_test,y_pred, average=\"micro\")}\\n')\n",
    "print(f'precition: {precision_score(y_test,y_pred,average=\"micro\")}\\n')\n",
    "print(f'recall: {recall_score(y_test,y_pred, average=\"micro\")}\\n')\n",
    "\n",
    "print(f'confusion matrix: \\n {confusion_matrix(y_test,y_pred)}\\n')\n",
    "print(f'classification report:\\n {classification_report(y_test,y_pred)}')"
   ]
  },
  {
   "cell_type": "markdown",
   "id": "7e8d13f5",
   "metadata": {},
   "source": [
    "# Train a default KNN model, make predictions and evaluate the model\n",
    "\n",
    "- Accuracy, f1-score, precision, recall, confusion matrix, and classification report."
   ]
  },
  {
   "cell_type": "code",
   "execution_count": 67,
   "id": "2c314d31",
   "metadata": {},
   "outputs": [
    {
     "name": "stdout",
     "output_type": "stream",
     "text": [
      "accuracy: 0.625\n",
      "\n",
      "f1_score: 0.625\n",
      "\n",
      "precition: 0.625\n",
      "\n",
      "recall: 0.625\n",
      "\n",
      "confusion matrix: \n",
      " [[10  0  0  0  0  0  0 13  0  0  0  0  0  0  0  0  0  0  0  0  0  0]\n",
      " [ 0 21  0  0  0  0  0  0  0  0  0  0  0  0  0  0  0  0  0  0  0  0]\n",
      " [ 0  0 14  0  0  0  0  0  0  2  4  0  0  0  0  0  0  0  0  0  0  0]\n",
      " [ 0  0  0 26  0  0  0  0  0  0  0  0  0  0  0  0  0  0  0  0  0  0]\n",
      " [ 0  0  0  0 19  0  0  0  0  0  0  0  8  0  0  0  0  0  0  0  0  0]\n",
      " [ 0  0  0  0  0 14  2  0  0  0  0  0  0  0  0  0  0  0  0  0  1  0]\n",
      " [ 0  0  0  0  0  0 15  0  0  0  0  2  0  0  0  0  0  0  0  0  0  0]\n",
      " [ 8  0  0  0  0  0  0  6  0  0  0  0  0  0  0  0  0  0  0  0  0  0]\n",
      " [ 0  0  0  0  0  2  0  0 14  0  0  0  0  0  0  0  0  0  0  0  7  0]\n",
      " [ 0  0  6  0  0  0  0  0  0  1  9  0  0  2  1  0  0  0  1  0  0  0]\n",
      " [ 0  0  3  0  0  0  0  0  0  2  2  0  0  0  1  0  0  0  3  0  0  0]\n",
      " [ 0  0  1  0  0  0  3  0  0  0  0 17  0  0  0  0  0  0  0  0  0  0]\n",
      " [ 0  0  0  0  5  0  0  0  0  0  0  0 13  0  0  0  0  0  0  1  0  0]\n",
      " [ 0  0  1  0  0  0  0  0  0  2  0  0  0  5 15  0  0  0  1  0  0  0]\n",
      " [ 0  0  1  0  0  0  0  0  0  1  2  0  2  5  8  0  0  0  0  0  0  0]\n",
      " [ 0  0  0  0  0  0  0  0  0  0  0  0  0  0  0 11  0  0  0  0  0  6]\n",
      " [ 0  0  0  0  0  0  0  0  0  0  0  0  0  0  0  0 14  0  0  0  0  0]\n",
      " [ 0  0  0  0  0  0  0  0  0  0  0  0  0  0  0  0  0 20  0  0  3  0]\n",
      " [ 0  0  4  0  0  0  0  0  0  5  5  0  0  2  0  0  0  0  7  0  0  0]\n",
      " [ 0  0  0  0  1  0  0  0  0  0  0  0  2  0  0  0  0  0  0 20  0  0]\n",
      " [ 0  0  0  0  0  1  0  0  9  0  0  0  0  0  0  0  0  0  0  0  9  0]\n",
      " [ 0  0  0  0  0  0  0  0  0  0  0  0  0  0  0 10  0  0  0  0  0  9]]\n",
      "\n",
      "classification report:\n",
      "               precision    recall  f1-score   support\n",
      "\n",
      "           0       0.56      0.43      0.49        23\n",
      "           1       1.00      1.00      1.00        21\n",
      "           2       0.47      0.70      0.56        20\n",
      "           3       1.00      1.00      1.00        26\n",
      "           4       0.76      0.70      0.73        27\n",
      "           5       0.82      0.82      0.82        17\n",
      "           6       0.75      0.88      0.81        17\n",
      "           7       0.32      0.43      0.36        14\n",
      "           8       0.61      0.61      0.61        23\n",
      "           9       0.08      0.05      0.06        20\n",
      "          10       0.09      0.18      0.12        11\n",
      "          11       0.89      0.81      0.85        21\n",
      "          12       0.52      0.68      0.59        19\n",
      "          13       0.36      0.21      0.26        24\n",
      "          14       0.32      0.42      0.36        19\n",
      "          15       0.52      0.65      0.58        17\n",
      "          16       1.00      1.00      1.00        14\n",
      "          17       1.00      0.87      0.93        23\n",
      "          18       0.58      0.30      0.40        23\n",
      "          19       0.95      0.87      0.91        23\n",
      "          20       0.45      0.47      0.46        19\n",
      "          21       0.60      0.47      0.53        19\n",
      "\n",
      "    accuracy                           0.62       440\n",
      "   macro avg       0.62      0.62      0.61       440\n",
      "weighted avg       0.64      0.62      0.63       440\n",
      "\n"
     ]
    },
    {
     "name": "stderr",
     "output_type": "stream",
     "text": [
      "C:\\Users\\Yasserkm\\AppData\\Local\\Programs\\Python\\Python312\\Lib\\site-packages\\sklearn\\neighbors\\_classification.py:233: DataConversionWarning: A column-vector y was passed when a 1d array was expected. Please change the shape of y to (n_samples,), for example using ravel().\n",
      "  return self._fit(X, y)\n"
     ]
    }
   ],
   "source": [
    "knn = KNeighborsClassifier(n_neighbors=3)\n",
    "knn.fit(X_train,y_train)\n",
    "y_pred = knn.predict(X_test)\n",
    "\n",
    "print(f'accuracy: {accuracy_score(y_test,y_pred)}\\n')\n",
    "print(f'f1_score: {f1_score(y_test,y_pred, average=\"micro\")}\\n')\n",
    "print(f'precition: {precision_score(y_test,y_pred,average=\"micro\")}\\n')\n",
    "print(f'recall: {recall_score(y_test,y_pred, average=\"micro\")}\\n')\n",
    "\n",
    "print(f'confusion matrix: \\n {confusion_matrix(y_test,y_pred)}\\n')\n",
    "print(f'classification report:\\n {classification_report(y_test,y_pred)}')"
   ]
  },
  {
   "cell_type": "markdown",
   "id": "948b43b0",
   "metadata": {},
   "source": [
    "# Try different values of K in the KNN model and select the best one.\n",
    "\n",
    "- Based on the accuracy."
   ]
  },
  {
   "cell_type": "code",
   "execution_count": 79,
   "id": "d854ba49",
   "metadata": {},
   "outputs": [
    {
     "name": "stdout",
     "output_type": "stream",
     "text": [
      "Best score: 0.65625\n",
      "\n",
      "Best Number of neighbors: KNeighborsClassifier(n_neighbors=4)\n"
     ]
    }
   ],
   "source": [
    "knn = KNeighborsClassifier()\n",
    "param_grid = dict(n_neighbors = list(range(1,20)))\n",
    "grid = GridSearchCV(knn, param_grid, cv = 5, scoring = 'accuracy')\n",
    "grid.fit(X_train,y_train)\n",
    "print (f'Best score: {grid.best_score_}\\n')\n",
    "print (f'Best Number of neighbors: {grid.best_estimator_}')"
   ]
  },
  {
   "cell_type": "code",
   "execution_count": null,
   "id": "6f0416ec-f199-4ad5-94d2-98d1cb058641",
   "metadata": {},
   "outputs": [],
   "source": []
  }
 ],
 "metadata": {
  "colab": {
   "name": "Welcome to DataCamp Workspaces.ipynb",
   "provenance": []
  },
  "kernelspec": {
   "display_name": "Python 3 (ipykernel)",
   "language": "python",
   "name": "python3"
  },
  "language_info": {
   "codemirror_mode": {
    "name": "ipython",
    "version": 3
   },
   "file_extension": ".py",
   "mimetype": "text/x-python",
   "name": "python",
   "nbconvert_exporter": "python",
   "pygments_lexer": "ipython3",
   "version": "3.12.0"
  }
 },
 "nbformat": 4,
 "nbformat_minor": 5
}
